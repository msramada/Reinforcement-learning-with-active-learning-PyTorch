{
 "cells": [
  {
   "cell_type": "code",
   "execution_count": 245,
   "metadata": {},
   "outputs": [
    {
     "name": "stdout",
     "output_type": "stream",
     "text": [
      "The device that will be used is: cpu also cpu\n"
     ]
    }
   ],
   "source": [
    "import torch\n",
    "import torch.nn as nn\n",
    "import torch.nn.functional as F\n",
    "import numpy as np\n",
    "from collections import namedtuple, deque\n",
    "import random\n",
    "import matplotlib.pyplot as plt\n",
    "import matplotlib.colors as colors\n",
    "import control\n",
    "from ExtendedKF import *\n",
    "import time\n",
    "import pylab as pl\n",
    "from IPython import display\n",
    "device = torch.device(\"cuda\" if torch.cuda.is_available() else \"cpu\")\n",
    "deviceCPU = torch.device(\"cpu\")\n",
    "torch.set_default_dtype(torch.float64)\n",
    "print('The device that will be used is:', device, 'also', deviceCPU)"
   ]
  },
  {
   "cell_type": "code",
   "execution_count": 246,
   "metadata": {},
   "outputs": [],
   "source": [
    "# Here we create the neural network representing the DQN actor.\n",
    "\n",
    "class DeepQNetwork(nn.Module):\n",
    "    def __init__(self, input_dim, output_dim, hidden_dim):#, seed):\n",
    "        super().__init__()\n",
    "        self.OneLayer = nn.Sequential(\n",
    "            nn.Linear(input_dim, hidden_dim),\n",
    "            nn.BatchNorm1d(hidden_dim),\n",
    "            nn.ELU(),\n",
    "            nn.Linear(hidden_dim, hidden_dim),\n",
    "            nn.BatchNorm1d(hidden_dim),\n",
    "            nn.ELU(),\n",
    "            nn.Linear(hidden_dim, output_dim)\n",
    "        )\n",
    "        #self.seed = torch.manual_seed(seed)\n",
    "\n",
    "    def forward(self, x):\n",
    "        return self.OneLayer(x)"
   ]
  },
  {
   "cell_type": "code",
   "execution_count": 247,
   "metadata": {},
   "outputs": [],
   "source": [
    "# Here we create the replay buffer that will be used for mini-batch learning.\n",
    "Transitions = namedtuple('Transitions', ('state', 'action', 'reward', 'next_state'))\n",
    "\n",
    "class ReplayBuffer(deque):\n",
    "    def __init__(self, capacity):\n",
    "        super().__init__([], maxlen=capacity)\n",
    "\n",
    "    def sample(self, batch_size, device):\n",
    "        transitions_deque =  random.sample(self, batch_size)\n",
    "        batch = Transitions(*zip(*transitions_deque))\n",
    "        states = torch.cat(batch.state).to(device)\n",
    "        actions = torch.cat(batch.action).to(device)\n",
    "        rewards = torch.cat(batch.reward).to(device)\n",
    "        next_state = torch.cat(batch.next_state).to(device)\n",
    "        return states, actions, rewards, next_state\n",
    "    \n",
    "    def push(self, *args):\n",
    "        self.append(Transitions(*args))"
   ]
  },
  {
   "cell_type": "code",
   "execution_count": 248,
   "metadata": {},
   "outputs": [],
   "source": [
    "# Here we define the DQN agent: where all the learning happens\n",
    "\n",
    "class DQN_Agent(object):\n",
    "    def __init__(self, state_dim, number_of_actions, hidden_size, gamma, device, tau, capacity, lr):\n",
    "        self.actorNet = DeepQNetwork(state_dim, number_of_actions, hidden_size).to(device)\n",
    "        self.actorNet_target = DeepQNetwork(state_dim, number_of_actions, hidden_size).to(device)\n",
    "        self.actorNet.eval()\n",
    "        self.actorNet_target.eval()\n",
    "        self.optimizer = torch.optim.Adam(self.actorNet.parameters(), lr=lr)\n",
    "        self.Memory = ReplayBuffer(capacity)\n",
    "        self.gamma = gamma\n",
    "        self.tau = tau\n",
    "        self.learning_rate = lr\n",
    "        self.device = device\n",
    "        for target_param, param in zip(self.actorNet_target.parameters(), self.actorNet.parameters()):\n",
    "            target_param.data.copy_(param.data)\n",
    "    def get_action_index(self, state, epsilon):\n",
    "        self.actorNet.eval()\n",
    "        if (random.random() > epsilon):\n",
    "            action = self.actorNet.forward(state).argmax()\n",
    "        else:\n",
    "            A = self.actorNet.forward(state)\n",
    "            i = random.sample(range(len(A.T)), k=1)\n",
    "            action = torch.tensor(i)\n",
    "        return torch.atleast_2d(action)\n",
    "    \n",
    "    def update_network(self, batch_size):\n",
    "        self.optimizer.zero_grad()\n",
    "        self.actorNet.train()\n",
    "        self.actorNet_target.eval()\n",
    "        states, actions, rewards, next_states = self.Memory.sample(batch_size, self.device)\n",
    "        \n",
    "        Qnow = self.actorNet(states).gather(1, actions)\n",
    "        Qplus = torch.atleast_2d(self.actorNet_target(next_states).detach().max(1)[0]).T\n",
    "        loss = F.mse_loss(Qnow, rewards + self.gamma * Qplus)\n",
    "        loss.backward()\n",
    "        self.optimizer.step()\n",
    "        for target_param, param in zip(self.actorNet_target.parameters(), self.actorNet.parameters()):\n",
    "            target_param.data.copy_(param.data * self.tau + target_param.data * (1.0 - self.tau))\n",
    "\n",
    "\n"
   ]
  },
  {
   "cell_type": "code",
   "execution_count": 249,
   "metadata": {},
   "outputs": [
    {
     "name": "stdout",
     "output_type": "stream",
     "text": [
      "tensor([[-0.0964, -0.3732,  2.4022, -1.1170],\n",
      "        [-0.7749,  0.0570,  1.1258,  1.0130],\n",
      "        [-0.7538,  0.0290, -1.2763, -0.6170],\n",
      "        [-0.5088, -0.5474, -0.4374, -1.5955]])\n",
      "tensor([ 2.4022,  1.1258,  0.0290, -0.4374])\n"
     ]
    }
   ],
   "source": [
    "a = torch.randn(4, 4)\n",
    "print(a)\n",
    "print(a.max(1)[0])"
   ]
  },
  {
   "cell_type": "code",
   "execution_count": 250,
   "metadata": {},
   "outputs": [
    {
     "name": "stdout",
     "output_type": "stream",
     "text": [
      "tensor([0, 1, 3, 3])\n",
      "tensor(15)\n"
     ]
    }
   ],
   "source": [
    "a = torch.randn(4, 4)\n",
    "a\n",
    "print(torch.argmax(a, dim=0))\n",
    "print(torch.argmax(a))"
   ]
  },
  {
   "cell_type": "code",
   "execution_count": 251,
   "metadata": {},
   "outputs": [
    {
     "data": {
      "text/plain": [
       "[<matplotlib.lines.Line2D at 0x29af18150>]"
      ]
     },
     "execution_count": 251,
     "metadata": {},
     "output_type": "execute_result"
    },
    {
     "data": {
      "image/png": "[encoded data removed]",
      "text/plain": [
       "<Figure size 300x150 with 1 Axes>"
      ]
     },
     "metadata": {},
     "output_type": "display_data"
    }
   ],
   "source": [
    "# Model parameters, state dynamics, measurement dynamics, and gradients:\n",
    "# Noise parameters\n",
    "saveFigs = True\n",
    "FigDim1 = 3.0\n",
    "FigDim2 = 1.5\n",
    "Model_Select = 1\n",
    "a = torch.tensor([[1.00]])\n",
    "Klqr, _, _ = control.dlqr(1, 1, 1, 1)\n",
    "# Maps and gradients\n",
    "def stateDynamics(x,u):\n",
    "    fxu = {\n",
    "        1: a * x + u,\n",
    "        2: a * x + u,\n",
    "        3: a * x + u\n",
    "    }\n",
    "    return torch.atleast_2d(fxu.get(Model_Select))\n",
    "\n",
    "def stateDynamics_prime(x,u):\n",
    "    fprime = {\n",
    "        1: a,\n",
    "        2: a,\n",
    "        3: a\n",
    "    }\n",
    "    return torch.atleast_2d(fprime.get(Model_Select))\n",
    "\n",
    "def measurementDynamics(x):\n",
    "    gx = {\n",
    "        1: x ** 3,\n",
    "        2: 2 * torch.tanh(0.5 * (x-5)),\n",
    "        3: x\n",
    "    }\n",
    "    return torch.atleast_2d(gx.get(Model_Select))\n",
    "\n",
    "def measurementDynamics_prime(x):\n",
    "    gprime = {\n",
    "        1: 3 * x ** 2,\n",
    "        2: (1- torch.tanh( 0.5 * (x-5)) ** 2) * 0.5 * 2,\n",
    "        3: 1.0 + 0.000*x\n",
    "    }\n",
    "    return torch.atleast_2d(gprime.get(Model_Select))\n",
    "\n",
    "t = torch.linspace(-10,15,100)\n",
    "gx = measurementDynamics(t)\n",
    "fig= plt.figure(figsize=(FigDim1,FigDim2))\n",
    "plt.style.use('ggplot')\n",
    "plt.rc('xtick', labelsize=7) #fontsize of the x tick labels\n",
    "plt.rc('ytick', labelsize=7) #fontsize of the y tick labels\n",
    "plt.xlabel('$x_k$', fontsize=9)  \n",
    "plt.ylabel('$g(x_k)$', fontsize=9) \n",
    "plt.rc('text', usetex=True)\n",
    "plt.plot(t.detach().numpy(), gx.detach().numpy().reshape((100,1)))\n",
    "#plt.savefig('Figures/outputDynamics.pdf',bbox_inches =\"tight\")"
   ]
  },
  {
   "cell_type": "code",
   "execution_count": 252,
   "metadata": {},
   "outputs": [],
   "source": [
    "Q = torch.tensor([[2.0]])\n",
    "R = torch.tensor([[2.0]])\n",
    "# Define model: dynamics, dynamics gradients, and noise covariances.\n",
    "model = Model(stateDynamics, measurementDynamics, stateDynamics_prime, measurementDynamics_prime, Q, R)\n",
    "# Define information state: (mean, covariance), from an extended Kalman Fitler.\n",
    "x0=torch.tensor([[0.1]])\n",
    "P0=torch.tensor([[2.6]])\n",
    "Hyperstate = Extended_KF(x0, P0, model)"
   ]
  },
  {
   "cell_type": "code",
   "execution_count": 253,
   "metadata": {},
   "outputs": [
    {
     "ename": "KeyboardInterrupt",
     "evalue": "",
     "output_type": "error",
     "traceback": [
      "\u001b[0;31m---------------------------------------------------------------------------\u001b[0m",
      "\u001b[0;31mKeyboardInterrupt\u001b[0m                         Traceback (most recent call last)",
      "Cell \u001b[0;32mIn[253], line 63\u001b[0m\n\u001b[1;32m     61\u001b[0m pl\u001b[39m.\u001b[39mtitle(\u001b[39mround\u001b[39m(avg_rewards[\u001b[39m-\u001b[39m\u001b[39m1\u001b[39m], \u001b[39m3\u001b[39m))\n\u001b[1;32m     62\u001b[0m display\u001b[39m.\u001b[39mclear_output(wait\u001b[39m=\u001b[39m\u001b[39mTrue\u001b[39;00m)\n\u001b[0;32m---> 63\u001b[0m display\u001b[39m.\u001b[39;49mdisplay(pl\u001b[39m.\u001b[39;49mgcf())\n\u001b[1;32m     64\u001b[0m time\u001b[39m.\u001b[39msleep(\u001b[39m0.001\u001b[39m)\n",
      "File \u001b[0;32m~/Library/Python/3.11/lib/python/site-packages/IPython/core/display_functions.py:298\u001b[0m, in \u001b[0;36mdisplay\u001b[0;34m(include, exclude, metadata, transient, display_id, raw, clear, *objs, **kwargs)\u001b[0m\n\u001b[1;32m    296\u001b[0m     publish_display_data(data\u001b[39m=\u001b[39mobj, metadata\u001b[39m=\u001b[39mmetadata, \u001b[39m*\u001b[39m\u001b[39m*\u001b[39mkwargs)\n\u001b[1;32m    297\u001b[0m \u001b[39melse\u001b[39;00m:\n\u001b[0;32m--> 298\u001b[0m     format_dict, md_dict \u001b[39m=\u001b[39m \u001b[39mformat\u001b[39;49m(obj, include\u001b[39m=\u001b[39;49minclude, exclude\u001b[39m=\u001b[39;49mexclude)\n\u001b[1;32m    299\u001b[0m     \u001b[39mif\u001b[39;00m \u001b[39mnot\u001b[39;00m format_dict:\n\u001b[1;32m    300\u001b[0m         \u001b[39m# nothing to display (e.g. _ipython_display_ took over)\u001b[39;00m\n\u001b[1;32m    301\u001b[0m         \u001b[39mcontinue\u001b[39;00m\n",
      "File \u001b[0;32m~/Library/Python/3.11/lib/python/site-packages/IPython/core/formatters.py:179\u001b[0m, in \u001b[0;36mDisplayFormatter.format\u001b[0;34m(self, obj, include, exclude)\u001b[0m\n\u001b[1;32m    177\u001b[0m md \u001b[39m=\u001b[39m \u001b[39mNone\u001b[39;00m\n\u001b[1;32m    178\u001b[0m \u001b[39mtry\u001b[39;00m:\n\u001b[0;32m--> 179\u001b[0m     data \u001b[39m=\u001b[39m formatter(obj)\n\u001b[1;32m    180\u001b[0m \u001b[39mexcept\u001b[39;00m:\n\u001b[1;32m    181\u001b[0m     \u001b[39m# FIXME: log the exception\u001b[39;00m\n\u001b[1;32m    182\u001b[0m     \u001b[39mraise\u001b[39;00m\n",
      "File \u001b[0;32m~/Library/Python/3.11/lib/python/site-packages/decorator.py:232\u001b[0m, in \u001b[0;36mdecorate.<locals>.fun\u001b[0;34m(*args, **kw)\u001b[0m\n\u001b[1;32m    230\u001b[0m \u001b[39mif\u001b[39;00m \u001b[39mnot\u001b[39;00m kwsyntax:\n\u001b[1;32m    231\u001b[0m     args, kw \u001b[39m=\u001b[39m fix(args, kw, sig)\n\u001b[0;32m--> 232\u001b[0m \u001b[39mreturn\u001b[39;00m caller(func, \u001b[39m*\u001b[39;49m(extras \u001b[39m+\u001b[39;49m args), \u001b[39m*\u001b[39;49m\u001b[39m*\u001b[39;49mkw)\n",
      "File \u001b[0;32m~/Library/Python/3.11/lib/python/site-packages/IPython/core/formatters.py:223\u001b[0m, in \u001b[0;36mcatch_format_error\u001b[0;34m(method, self, *args, **kwargs)\u001b[0m\n\u001b[1;32m    221\u001b[0m \u001b[39m\u001b[39m\u001b[39m\"\"\"show traceback on failed format call\"\"\"\u001b[39;00m\n\u001b[1;32m    222\u001b[0m \u001b[39mtry\u001b[39;00m:\n\u001b[0;32m--> 223\u001b[0m     r \u001b[39m=\u001b[39m method(\u001b[39mself\u001b[39;49m, \u001b[39m*\u001b[39;49margs, \u001b[39m*\u001b[39;49m\u001b[39m*\u001b[39;49mkwargs)\n\u001b[1;32m    224\u001b[0m \u001b[39mexcept\u001b[39;00m \u001b[39mNotImplementedError\u001b[39;00m:\n\u001b[1;32m    225\u001b[0m     \u001b[39m# don't warn on NotImplementedErrors\u001b[39;00m\n\u001b[1;32m    226\u001b[0m     \u001b[39mreturn\u001b[39;00m \u001b[39mself\u001b[39m\u001b[39m.\u001b[39m_check_return(\u001b[39mNone\u001b[39;00m, args[\u001b[39m0\u001b[39m])\n",
      "File \u001b[0;32m~/Library/Python/3.11/lib/python/site-packages/IPython/core/formatters.py:340\u001b[0m, in \u001b[0;36mBaseFormatter.__call__\u001b[0;34m(self, obj)\u001b[0m\n\u001b[1;32m    338\u001b[0m     \u001b[39mpass\u001b[39;00m\n\u001b[1;32m    339\u001b[0m \u001b[39melse\u001b[39;00m:\n\u001b[0;32m--> 340\u001b[0m     \u001b[39mreturn\u001b[39;00m printer(obj)\n\u001b[1;32m    341\u001b[0m \u001b[39m# Finally look for special method names\u001b[39;00m\n\u001b[1;32m    342\u001b[0m method \u001b[39m=\u001b[39m get_real_method(obj, \u001b[39mself\u001b[39m\u001b[39m.\u001b[39mprint_method)\n",
      "File \u001b[0;32m~/Library/Python/3.11/lib/python/site-packages/IPython/core/pylabtools.py:152\u001b[0m, in \u001b[0;36mprint_figure\u001b[0;34m(fig, fmt, bbox_inches, base64, **kwargs)\u001b[0m\n\u001b[1;32m    149\u001b[0m     \u001b[39mfrom\u001b[39;00m \u001b[39mmatplotlib\u001b[39;00m\u001b[39m.\u001b[39;00m\u001b[39mbackend_bases\u001b[39;00m \u001b[39mimport\u001b[39;00m FigureCanvasBase\n\u001b[1;32m    150\u001b[0m     FigureCanvasBase(fig)\n\u001b[0;32m--> 152\u001b[0m fig\u001b[39m.\u001b[39;49mcanvas\u001b[39m.\u001b[39;49mprint_figure(bytes_io, \u001b[39m*\u001b[39;49m\u001b[39m*\u001b[39;49mkw)\n\u001b[1;32m    153\u001b[0m data \u001b[39m=\u001b[39m bytes_io\u001b[39m.\u001b[39mgetvalue()\n\u001b[1;32m    154\u001b[0m \u001b[39mif\u001b[39;00m fmt \u001b[39m==\u001b[39m \u001b[39m'\u001b[39m\u001b[39msvg\u001b[39m\u001b[39m'\u001b[39m:\n",
      "File \u001b[0;32m/Library/Frameworks/Python.framework/Versions/3.11/lib/python3.11/site-packages/matplotlib/backend_bases.py:2366\u001b[0m, in \u001b[0;36mFigureCanvasBase.print_figure\u001b[0;34m(self, filename, dpi, facecolor, edgecolor, orientation, format, bbox_inches, pad_inches, bbox_extra_artists, backend, **kwargs)\u001b[0m\n\u001b[1;32m   2362\u001b[0m \u001b[39mtry\u001b[39;00m:\n\u001b[1;32m   2363\u001b[0m     \u001b[39m# _get_renderer may change the figure dpi (as vector formats\u001b[39;00m\n\u001b[1;32m   2364\u001b[0m     \u001b[39m# force the figure dpi to 72), so we need to set it again here.\u001b[39;00m\n\u001b[1;32m   2365\u001b[0m     \u001b[39mwith\u001b[39;00m cbook\u001b[39m.\u001b[39m_setattr_cm(\u001b[39mself\u001b[39m\u001b[39m.\u001b[39mfigure, dpi\u001b[39m=\u001b[39mdpi):\n\u001b[0;32m-> 2366\u001b[0m         result \u001b[39m=\u001b[39m print_method(\n\u001b[1;32m   2367\u001b[0m             filename,\n\u001b[1;32m   2368\u001b[0m             facecolor\u001b[39m=\u001b[39;49mfacecolor,\n\u001b[1;32m   2369\u001b[0m             edgecolor\u001b[39m=\u001b[39;49medgecolor,\n\u001b[1;32m   2370\u001b[0m             orientation\u001b[39m=\u001b[39;49morientation,\n\u001b[1;32m   2371\u001b[0m             bbox_inches_restore\u001b[39m=\u001b[39;49m_bbox_inches_restore,\n\u001b[1;32m   2372\u001b[0m             \u001b[39m*\u001b[39;49m\u001b[39m*\u001b[39;49mkwargs)\n\u001b[1;32m   2373\u001b[0m \u001b[39mfinally\u001b[39;00m:\n\u001b[1;32m   2374\u001b[0m     \u001b[39mif\u001b[39;00m bbox_inches \u001b[39mand\u001b[39;00m restore_bbox:\n",
      "File \u001b[0;32m/Library/Frameworks/Python.framework/Versions/3.11/lib/python3.11/site-packages/matplotlib/backend_bases.py:2232\u001b[0m, in \u001b[0;36mFigureCanvasBase._switch_canvas_and_return_print_method.<locals>.<lambda>\u001b[0;34m(*args, **kwargs)\u001b[0m\n\u001b[1;32m   2228\u001b[0m     optional_kws \u001b[39m=\u001b[39m {  \u001b[39m# Passed by print_figure for other renderers.\u001b[39;00m\n\u001b[1;32m   2229\u001b[0m         \u001b[39m\"\u001b[39m\u001b[39mdpi\u001b[39m\u001b[39m\"\u001b[39m, \u001b[39m\"\u001b[39m\u001b[39mfacecolor\u001b[39m\u001b[39m\"\u001b[39m, \u001b[39m\"\u001b[39m\u001b[39medgecolor\u001b[39m\u001b[39m\"\u001b[39m, \u001b[39m\"\u001b[39m\u001b[39morientation\u001b[39m\u001b[39m\"\u001b[39m,\n\u001b[1;32m   2230\u001b[0m         \u001b[39m\"\u001b[39m\u001b[39mbbox_inches_restore\u001b[39m\u001b[39m\"\u001b[39m}\n\u001b[1;32m   2231\u001b[0m     skip \u001b[39m=\u001b[39m optional_kws \u001b[39m-\u001b[39m {\u001b[39m*\u001b[39minspect\u001b[39m.\u001b[39msignature(meth)\u001b[39m.\u001b[39mparameters}\n\u001b[0;32m-> 2232\u001b[0m     print_method \u001b[39m=\u001b[39m functools\u001b[39m.\u001b[39mwraps(meth)(\u001b[39mlambda\u001b[39;00m \u001b[39m*\u001b[39margs, \u001b[39m*\u001b[39m\u001b[39m*\u001b[39mkwargs: meth(\n\u001b[1;32m   2233\u001b[0m         \u001b[39m*\u001b[39;49margs, \u001b[39m*\u001b[39;49m\u001b[39m*\u001b[39;49m{k: v \u001b[39mfor\u001b[39;49;00m k, v \u001b[39min\u001b[39;49;00m kwargs\u001b[39m.\u001b[39;49mitems() \u001b[39mif\u001b[39;49;00m k \u001b[39mnot\u001b[39;49;00m \u001b[39min\u001b[39;49;00m skip}))\n\u001b[1;32m   2234\u001b[0m \u001b[39melse\u001b[39;00m:  \u001b[39m# Let third-parties do as they see fit.\u001b[39;00m\n\u001b[1;32m   2235\u001b[0m     print_method \u001b[39m=\u001b[39m meth\n",
      "File \u001b[0;32m/Library/Frameworks/Python.framework/Versions/3.11/lib/python3.11/site-packages/matplotlib/backends/backend_agg.py:509\u001b[0m, in \u001b[0;36mFigureCanvasAgg.print_png\u001b[0;34m(self, filename_or_obj, metadata, pil_kwargs)\u001b[0m\n\u001b[1;32m    462\u001b[0m \u001b[39mdef\u001b[39;00m \u001b[39mprint_png\u001b[39m(\u001b[39mself\u001b[39m, filename_or_obj, \u001b[39m*\u001b[39m, metadata\u001b[39m=\u001b[39m\u001b[39mNone\u001b[39;00m, pil_kwargs\u001b[39m=\u001b[39m\u001b[39mNone\u001b[39;00m):\n\u001b[1;32m    463\u001b[0m \u001b[39m    \u001b[39m\u001b[39m\"\"\"\u001b[39;00m\n\u001b[1;32m    464\u001b[0m \u001b[39m    Write the figure to a PNG file.\u001b[39;00m\n\u001b[1;32m    465\u001b[0m \n\u001b[0;32m   (...)\u001b[0m\n\u001b[1;32m    507\u001b[0m \u001b[39m        *metadata*, including the default 'Software' key.\u001b[39;00m\n\u001b[1;32m    508\u001b[0m \u001b[39m    \"\"\"\u001b[39;00m\n\u001b[0;32m--> 509\u001b[0m     \u001b[39mself\u001b[39;49m\u001b[39m.\u001b[39;49m_print_pil(filename_or_obj, \u001b[39m\"\u001b[39;49m\u001b[39mpng\u001b[39;49m\u001b[39m\"\u001b[39;49m, pil_kwargs, metadata)\n",
      "File \u001b[0;32m/Library/Frameworks/Python.framework/Versions/3.11/lib/python3.11/site-packages/matplotlib/backends/backend_agg.py:457\u001b[0m, in \u001b[0;36mFigureCanvasAgg._print_pil\u001b[0;34m(self, filename_or_obj, fmt, pil_kwargs, metadata)\u001b[0m\n\u001b[1;32m    452\u001b[0m \u001b[39mdef\u001b[39;00m \u001b[39m_print_pil\u001b[39m(\u001b[39mself\u001b[39m, filename_or_obj, fmt, pil_kwargs, metadata\u001b[39m=\u001b[39m\u001b[39mNone\u001b[39;00m):\n\u001b[1;32m    453\u001b[0m \u001b[39m    \u001b[39m\u001b[39m\"\"\"\u001b[39;00m\n\u001b[1;32m    454\u001b[0m \u001b[39m    Draw the canvas, then save it using `.image.imsave` (to which\u001b[39;00m\n\u001b[1;32m    455\u001b[0m \u001b[39m    *pil_kwargs* and *metadata* are forwarded).\u001b[39;00m\n\u001b[1;32m    456\u001b[0m \u001b[39m    \"\"\"\u001b[39;00m\n\u001b[0;32m--> 457\u001b[0m     FigureCanvasAgg\u001b[39m.\u001b[39;49mdraw(\u001b[39mself\u001b[39;49m)\n\u001b[1;32m    458\u001b[0m     mpl\u001b[39m.\u001b[39mimage\u001b[39m.\u001b[39mimsave(\n\u001b[1;32m    459\u001b[0m         filename_or_obj, \u001b[39mself\u001b[39m\u001b[39m.\u001b[39mbuffer_rgba(), \u001b[39mformat\u001b[39m\u001b[39m=\u001b[39mfmt, origin\u001b[39m=\u001b[39m\u001b[39m\"\u001b[39m\u001b[39mupper\u001b[39m\u001b[39m\"\u001b[39m,\n\u001b[1;32m    460\u001b[0m         dpi\u001b[39m=\u001b[39m\u001b[39mself\u001b[39m\u001b[39m.\u001b[39mfigure\u001b[39m.\u001b[39mdpi, metadata\u001b[39m=\u001b[39mmetadata, pil_kwargs\u001b[39m=\u001b[39mpil_kwargs)\n",
      "File \u001b[0;32m/Library/Frameworks/Python.framework/Versions/3.11/lib/python3.11/site-packages/matplotlib/backends/backend_agg.py:400\u001b[0m, in \u001b[0;36mFigureCanvasAgg.draw\u001b[0;34m(self)\u001b[0m\n\u001b[1;32m    396\u001b[0m \u001b[39m# Acquire a lock on the shared font cache.\u001b[39;00m\n\u001b[1;32m    397\u001b[0m \u001b[39mwith\u001b[39;00m RendererAgg\u001b[39m.\u001b[39mlock, \\\n\u001b[1;32m    398\u001b[0m      (\u001b[39mself\u001b[39m\u001b[39m.\u001b[39mtoolbar\u001b[39m.\u001b[39m_wait_cursor_for_draw_cm() \u001b[39mif\u001b[39;00m \u001b[39mself\u001b[39m\u001b[39m.\u001b[39mtoolbar\n\u001b[1;32m    399\u001b[0m       \u001b[39melse\u001b[39;00m nullcontext()):\n\u001b[0;32m--> 400\u001b[0m     \u001b[39mself\u001b[39;49m\u001b[39m.\u001b[39;49mfigure\u001b[39m.\u001b[39;49mdraw(\u001b[39mself\u001b[39;49m\u001b[39m.\u001b[39;49mrenderer)\n\u001b[1;32m    401\u001b[0m     \u001b[39m# A GUI class may be need to update a window using this draw, so\u001b[39;00m\n\u001b[1;32m    402\u001b[0m     \u001b[39m# don't forget to call the superclass.\u001b[39;00m\n\u001b[1;32m    403\u001b[0m     \u001b[39msuper\u001b[39m()\u001b[39m.\u001b[39mdraw()\n",
      "File \u001b[0;32m/Library/Frameworks/Python.framework/Versions/3.11/lib/python3.11/site-packages/matplotlib/artist.py:95\u001b[0m, in \u001b[0;36m_finalize_rasterization.<locals>.draw_wrapper\u001b[0;34m(artist, renderer, *args, **kwargs)\u001b[0m\n\u001b[1;32m     93\u001b[0m \u001b[39m@wraps\u001b[39m(draw)\n\u001b[1;32m     94\u001b[0m \u001b[39mdef\u001b[39;00m \u001b[39mdraw_wrapper\u001b[39m(artist, renderer, \u001b[39m*\u001b[39margs, \u001b[39m*\u001b[39m\u001b[39m*\u001b[39mkwargs):\n\u001b[0;32m---> 95\u001b[0m     result \u001b[39m=\u001b[39m draw(artist, renderer, \u001b[39m*\u001b[39;49margs, \u001b[39m*\u001b[39;49m\u001b[39m*\u001b[39;49mkwargs)\n\u001b[1;32m     96\u001b[0m     \u001b[39mif\u001b[39;00m renderer\u001b[39m.\u001b[39m_rasterizing:\n\u001b[1;32m     97\u001b[0m         renderer\u001b[39m.\u001b[39mstop_rasterizing()\n",
      "File \u001b[0;32m/Library/Frameworks/Python.framework/Versions/3.11/lib/python3.11/site-packages/matplotlib/artist.py:72\u001b[0m, in \u001b[0;36mallow_rasterization.<locals>.draw_wrapper\u001b[0;34m(artist, renderer)\u001b[0m\n\u001b[1;32m     69\u001b[0m     \u001b[39mif\u001b[39;00m artist\u001b[39m.\u001b[39mget_agg_filter() \u001b[39mis\u001b[39;00m \u001b[39mnot\u001b[39;00m \u001b[39mNone\u001b[39;00m:\n\u001b[1;32m     70\u001b[0m         renderer\u001b[39m.\u001b[39mstart_filter()\n\u001b[0;32m---> 72\u001b[0m     \u001b[39mreturn\u001b[39;00m draw(artist, renderer)\n\u001b[1;32m     73\u001b[0m \u001b[39mfinally\u001b[39;00m:\n\u001b[1;32m     74\u001b[0m     \u001b[39mif\u001b[39;00m artist\u001b[39m.\u001b[39mget_agg_filter() \u001b[39mis\u001b[39;00m \u001b[39mnot\u001b[39;00m \u001b[39mNone\u001b[39;00m:\n",
      "File \u001b[0;32m/Library/Frameworks/Python.framework/Versions/3.11/lib/python3.11/site-packages/matplotlib/figure.py:3140\u001b[0m, in \u001b[0;36mFigure.draw\u001b[0;34m(self, renderer)\u001b[0m\n\u001b[1;32m   3137\u001b[0m         \u001b[39m# ValueError can occur when resizing a window.\u001b[39;00m\n\u001b[1;32m   3139\u001b[0m \u001b[39mself\u001b[39m\u001b[39m.\u001b[39mpatch\u001b[39m.\u001b[39mdraw(renderer)\n\u001b[0;32m-> 3140\u001b[0m mimage\u001b[39m.\u001b[39;49m_draw_list_compositing_images(\n\u001b[1;32m   3141\u001b[0m     renderer, \u001b[39mself\u001b[39;49m, artists, \u001b[39mself\u001b[39;49m\u001b[39m.\u001b[39;49msuppressComposite)\n\u001b[1;32m   3143\u001b[0m \u001b[39mfor\u001b[39;00m sfig \u001b[39min\u001b[39;00m \u001b[39mself\u001b[39m\u001b[39m.\u001b[39msubfigs:\n\u001b[1;32m   3144\u001b[0m     sfig\u001b[39m.\u001b[39mdraw(renderer)\n",
      "File \u001b[0;32m/Library/Frameworks/Python.framework/Versions/3.11/lib/python3.11/site-packages/matplotlib/image.py:131\u001b[0m, in \u001b[0;36m_draw_list_compositing_images\u001b[0;34m(renderer, parent, artists, suppress_composite)\u001b[0m\n\u001b[1;32m    129\u001b[0m \u001b[39mif\u001b[39;00m not_composite \u001b[39mor\u001b[39;00m \u001b[39mnot\u001b[39;00m has_images:\n\u001b[1;32m    130\u001b[0m     \u001b[39mfor\u001b[39;00m a \u001b[39min\u001b[39;00m artists:\n\u001b[0;32m--> 131\u001b[0m         a\u001b[39m.\u001b[39;49mdraw(renderer)\n\u001b[1;32m    132\u001b[0m \u001b[39melse\u001b[39;00m:\n\u001b[1;32m    133\u001b[0m     \u001b[39m# Composite any adjacent images together\u001b[39;00m\n\u001b[1;32m    134\u001b[0m     image_group \u001b[39m=\u001b[39m []\n",
      "File \u001b[0;32m/Library/Frameworks/Python.framework/Versions/3.11/lib/python3.11/site-packages/matplotlib/artist.py:72\u001b[0m, in \u001b[0;36mallow_rasterization.<locals>.draw_wrapper\u001b[0;34m(artist, renderer)\u001b[0m\n\u001b[1;32m     69\u001b[0m     \u001b[39mif\u001b[39;00m artist\u001b[39m.\u001b[39mget_agg_filter() \u001b[39mis\u001b[39;00m \u001b[39mnot\u001b[39;00m \u001b[39mNone\u001b[39;00m:\n\u001b[1;32m     70\u001b[0m         renderer\u001b[39m.\u001b[39mstart_filter()\n\u001b[0;32m---> 72\u001b[0m     \u001b[39mreturn\u001b[39;00m draw(artist, renderer)\n\u001b[1;32m     73\u001b[0m \u001b[39mfinally\u001b[39;00m:\n\u001b[1;32m     74\u001b[0m     \u001b[39mif\u001b[39;00m artist\u001b[39m.\u001b[39mget_agg_filter() \u001b[39mis\u001b[39;00m \u001b[39mnot\u001b[39;00m \u001b[39mNone\u001b[39;00m:\n",
      "File \u001b[0;32m/Library/Frameworks/Python.framework/Versions/3.11/lib/python3.11/site-packages/matplotlib/axes/_base.py:3028\u001b[0m, in \u001b[0;36m_AxesBase.draw\u001b[0;34m(self, renderer)\u001b[0m\n\u001b[1;32m   3025\u001b[0m     \u001b[39mfor\u001b[39;00m spine \u001b[39min\u001b[39;00m \u001b[39mself\u001b[39m\u001b[39m.\u001b[39mspines\u001b[39m.\u001b[39mvalues():\n\u001b[1;32m   3026\u001b[0m         artists\u001b[39m.\u001b[39mremove(spine)\n\u001b[0;32m-> 3028\u001b[0m \u001b[39mself\u001b[39;49m\u001b[39m.\u001b[39;49m_update_title_position(renderer)\n\u001b[1;32m   3030\u001b[0m \u001b[39mif\u001b[39;00m \u001b[39mnot\u001b[39;00m \u001b[39mself\u001b[39m\u001b[39m.\u001b[39maxison:\n\u001b[1;32m   3031\u001b[0m     \u001b[39mfor\u001b[39;00m _axis \u001b[39min\u001b[39;00m \u001b[39mself\u001b[39m\u001b[39m.\u001b[39m_axis_map\u001b[39m.\u001b[39mvalues():\n",
      "File \u001b[0;32m/Library/Frameworks/Python.framework/Versions/3.11/lib/python3.11/site-packages/matplotlib/axes/_base.py:2972\u001b[0m, in \u001b[0;36m_AxesBase._update_title_position\u001b[0;34m(self, renderer)\u001b[0m\n\u001b[1;32m   2970\u001b[0m top \u001b[39m=\u001b[39m \u001b[39mmax\u001b[39m(top, bb\u001b[39m.\u001b[39mymax)\n\u001b[1;32m   2971\u001b[0m \u001b[39mif\u001b[39;00m title\u001b[39m.\u001b[39mget_text():\n\u001b[0;32m-> 2972\u001b[0m     ax\u001b[39m.\u001b[39;49myaxis\u001b[39m.\u001b[39;49mget_tightbbox(renderer)  \u001b[39m# update offsetText\u001b[39;00m\n\u001b[1;32m   2973\u001b[0m     \u001b[39mif\u001b[39;00m ax\u001b[39m.\u001b[39myaxis\u001b[39m.\u001b[39moffsetText\u001b[39m.\u001b[39mget_text():\n\u001b[1;32m   2974\u001b[0m         bb \u001b[39m=\u001b[39m ax\u001b[39m.\u001b[39myaxis\u001b[39m.\u001b[39moffsetText\u001b[39m.\u001b[39mget_tightbbox(renderer)\n",
      "File \u001b[0;32m/Library/Frameworks/Python.framework/Versions/3.11/lib/python3.11/site-packages/matplotlib/axis.py:1328\u001b[0m, in \u001b[0;36mAxis.get_tightbbox\u001b[0;34m(self, renderer, for_layout_only)\u001b[0m\n\u001b[1;32m   1325\u001b[0m \u001b[39mself\u001b[39m\u001b[39m.\u001b[39m_update_label_position(renderer)\n\u001b[1;32m   1327\u001b[0m \u001b[39m# go back to just this axis's tick labels\u001b[39;00m\n\u001b[0;32m-> 1328\u001b[0m tlb1, tlb2 \u001b[39m=\u001b[39m \u001b[39mself\u001b[39;49m\u001b[39m.\u001b[39;49m_get_ticklabel_bboxes(ticks_to_draw, renderer)\n\u001b[1;32m   1330\u001b[0m \u001b[39mself\u001b[39m\u001b[39m.\u001b[39m_update_offset_text_position(tlb1, tlb2)\n\u001b[1;32m   1331\u001b[0m \u001b[39mself\u001b[39m\u001b[39m.\u001b[39moffsetText\u001b[39m.\u001b[39mset_text(\u001b[39mself\u001b[39m\u001b[39m.\u001b[39mmajor\u001b[39m.\u001b[39mformatter\u001b[39m.\u001b[39mget_offset())\n",
      "File \u001b[0;32m/Library/Frameworks/Python.framework/Versions/3.11/lib/python3.11/site-packages/matplotlib/axis.py:1304\u001b[0m, in \u001b[0;36mAxis._get_ticklabel_bboxes\u001b[0;34m(self, ticks, renderer)\u001b[0m\n\u001b[1;32m   1302\u001b[0m \u001b[39mif\u001b[39;00m renderer \u001b[39mis\u001b[39;00m \u001b[39mNone\u001b[39;00m:\n\u001b[1;32m   1303\u001b[0m     renderer \u001b[39m=\u001b[39m \u001b[39mself\u001b[39m\u001b[39m.\u001b[39mfigure\u001b[39m.\u001b[39m_get_renderer()\n\u001b[0;32m-> 1304\u001b[0m \u001b[39mreturn\u001b[39;00m ([tick\u001b[39m.\u001b[39;49mlabel1\u001b[39m.\u001b[39;49mget_window_extent(renderer)\n\u001b[1;32m   1305\u001b[0m          \u001b[39mfor\u001b[39;49;00m tick \u001b[39min\u001b[39;49;00m ticks \u001b[39mif\u001b[39;49;00m tick\u001b[39m.\u001b[39;49mlabel1\u001b[39m.\u001b[39;49mget_visible()],\n\u001b[1;32m   1306\u001b[0m         [tick\u001b[39m.\u001b[39mlabel2\u001b[39m.\u001b[39mget_window_extent(renderer)\n\u001b[1;32m   1307\u001b[0m          \u001b[39mfor\u001b[39;00m tick \u001b[39min\u001b[39;00m ticks \u001b[39mif\u001b[39;00m tick\u001b[39m.\u001b[39mlabel2\u001b[39m.\u001b[39mget_visible()])\n",
      "File \u001b[0;32m/Library/Frameworks/Python.framework/Versions/3.11/lib/python3.11/site-packages/matplotlib/axis.py:1304\u001b[0m, in \u001b[0;36m<listcomp>\u001b[0;34m(.0)\u001b[0m\n\u001b[1;32m   1302\u001b[0m \u001b[39mif\u001b[39;00m renderer \u001b[39mis\u001b[39;00m \u001b[39mNone\u001b[39;00m:\n\u001b[1;32m   1303\u001b[0m     renderer \u001b[39m=\u001b[39m \u001b[39mself\u001b[39m\u001b[39m.\u001b[39mfigure\u001b[39m.\u001b[39m_get_renderer()\n\u001b[0;32m-> 1304\u001b[0m \u001b[39mreturn\u001b[39;00m ([tick\u001b[39m.\u001b[39;49mlabel1\u001b[39m.\u001b[39;49mget_window_extent(renderer)\n\u001b[1;32m   1305\u001b[0m          \u001b[39mfor\u001b[39;00m tick \u001b[39min\u001b[39;00m ticks \u001b[39mif\u001b[39;00m tick\u001b[39m.\u001b[39mlabel1\u001b[39m.\u001b[39mget_visible()],\n\u001b[1;32m   1306\u001b[0m         [tick\u001b[39m.\u001b[39mlabel2\u001b[39m.\u001b[39mget_window_extent(renderer)\n\u001b[1;32m   1307\u001b[0m          \u001b[39mfor\u001b[39;00m tick \u001b[39min\u001b[39;00m ticks \u001b[39mif\u001b[39;00m tick\u001b[39m.\u001b[39mlabel2\u001b[39m.\u001b[39mget_visible()])\n",
      "File \u001b[0;32m/Library/Frameworks/Python.framework/Versions/3.11/lib/python3.11/site-packages/matplotlib/text.py:961\u001b[0m, in \u001b[0;36mText.get_window_extent\u001b[0;34m(self, renderer, dpi)\u001b[0m\n\u001b[1;32m    959\u001b[0m bbox, info, descent \u001b[39m=\u001b[39m \u001b[39mself\u001b[39m\u001b[39m.\u001b[39m_get_layout(\u001b[39mself\u001b[39m\u001b[39m.\u001b[39m_renderer)\n\u001b[1;32m    960\u001b[0m x, y \u001b[39m=\u001b[39m \u001b[39mself\u001b[39m\u001b[39m.\u001b[39mget_unitless_position()\n\u001b[0;32m--> 961\u001b[0m x, y \u001b[39m=\u001b[39m \u001b[39mself\u001b[39;49m\u001b[39m.\u001b[39;49mget_transform()\u001b[39m.\u001b[39;49mtransform((x, y))\n\u001b[1;32m    962\u001b[0m bbox \u001b[39m=\u001b[39m bbox\u001b[39m.\u001b[39mtranslated(x, y)\n\u001b[1;32m    963\u001b[0m \u001b[39mreturn\u001b[39;00m bbox\n",
      "File \u001b[0;32m/Library/Frameworks/Python.framework/Versions/3.11/lib/python3.11/site-packages/matplotlib/transforms.py:1490\u001b[0m, in \u001b[0;36mTransform.transform\u001b[0;34m(self, values)\u001b[0m\n\u001b[1;32m   1487\u001b[0m values \u001b[39m=\u001b[39m values\u001b[39m.\u001b[39mreshape((\u001b[39m-\u001b[39m\u001b[39m1\u001b[39m, \u001b[39mself\u001b[39m\u001b[39m.\u001b[39minput_dims))\n\u001b[1;32m   1489\u001b[0m \u001b[39m# Transform the values\u001b[39;00m\n\u001b[0;32m-> 1490\u001b[0m res \u001b[39m=\u001b[39m \u001b[39mself\u001b[39m\u001b[39m.\u001b[39mtransform_affine(\u001b[39mself\u001b[39;49m\u001b[39m.\u001b[39;49mtransform_non_affine(values))\n\u001b[1;32m   1492\u001b[0m \u001b[39m# Convert the result back to the shape of the input values.\u001b[39;00m\n\u001b[1;32m   1493\u001b[0m \u001b[39mif\u001b[39;00m ndim \u001b[39m==\u001b[39m \u001b[39m0\u001b[39m:\n",
      "File \u001b[0;32m/Library/Frameworks/Python.framework/Versions/3.11/lib/python3.11/site-packages/matplotlib/transforms.py:2419\u001b[0m, in \u001b[0;36mCompositeGenericTransform.transform_non_affine\u001b[0;34m(self, points)\u001b[0m\n\u001b[1;32m   2417\u001b[0m \u001b[39mdef\u001b[39;00m \u001b[39mtransform_non_affine\u001b[39m(\u001b[39mself\u001b[39m, points):\n\u001b[1;32m   2418\u001b[0m     \u001b[39m# docstring inherited\u001b[39;00m\n\u001b[0;32m-> 2419\u001b[0m     \u001b[39mif\u001b[39;00m \u001b[39mself\u001b[39;49m\u001b[39m.\u001b[39;49m_a\u001b[39m.\u001b[39;49mis_affine \u001b[39mand\u001b[39;00m \u001b[39mself\u001b[39m\u001b[39m.\u001b[39m_b\u001b[39m.\u001b[39mis_affine:\n\u001b[1;32m   2420\u001b[0m         \u001b[39mreturn\u001b[39;00m points\n\u001b[1;32m   2421\u001b[0m     \u001b[39melif\u001b[39;00m \u001b[39mnot\u001b[39;00m \u001b[39mself\u001b[39m\u001b[39m.\u001b[39m_a\u001b[39m.\u001b[39mis_affine \u001b[39mand\u001b[39;00m \u001b[39mself\u001b[39m\u001b[39m.\u001b[39m_b\u001b[39m.\u001b[39mis_affine:\n",
      "File \u001b[0;32m/Library/Frameworks/Python.framework/Versions/3.11/lib/python3.11/site-packages/matplotlib/transforms.py:2214\u001b[0m, in \u001b[0;36mBlendedGenericTransform.<lambda>\u001b[0;34m(self)\u001b[0m\n\u001b[1;32m   2209\u001b[0m \u001b[39mdef\u001b[39;00m \u001b[39mcontains_branch\u001b[39m(\u001b[39mself\u001b[39m, other):\n\u001b[1;32m   2210\u001b[0m     \u001b[39m# A blended transform cannot possibly contain a branch from two\u001b[39;00m\n\u001b[1;32m   2211\u001b[0m     \u001b[39m# different transforms.\u001b[39;00m\n\u001b[1;32m   2212\u001b[0m     \u001b[39mreturn\u001b[39;00m \u001b[39mFalse\u001b[39;00m\n\u001b[0;32m-> 2214\u001b[0m is_affine \u001b[39m=\u001b[39m \u001b[39mproperty\u001b[39m(\u001b[39mlambda\u001b[39;00m \u001b[39mself\u001b[39m: \u001b[39mself\u001b[39m\u001b[39m.\u001b[39m_x\u001b[39m.\u001b[39mis_affine \u001b[39mand\u001b[39;00m \u001b[39mself\u001b[39m\u001b[39m.\u001b[39m_y\u001b[39m.\u001b[39mis_affine)\n\u001b[1;32m   2215\u001b[0m has_inverse \u001b[39m=\u001b[39m \u001b[39mproperty\u001b[39m(\n\u001b[1;32m   2216\u001b[0m     \u001b[39mlambda\u001b[39;00m \u001b[39mself\u001b[39m: \u001b[39mself\u001b[39m\u001b[39m.\u001b[39m_x\u001b[39m.\u001b[39mhas_inverse \u001b[39mand\u001b[39;00m \u001b[39mself\u001b[39m\u001b[39m.\u001b[39m_y\u001b[39m.\u001b[39mhas_inverse)\n\u001b[1;32m   2218\u001b[0m \u001b[39mdef\u001b[39;00m \u001b[39mfrozen\u001b[39m(\u001b[39mself\u001b[39m):\n\u001b[1;32m   2219\u001b[0m     \u001b[39m# docstring inherited\u001b[39;00m\n",
      "\u001b[0;31mKeyboardInterrupt\u001b[0m: "
     ]
    },
    {
     "data": {
      "image/png": "[encoded data removed]",
      "text/plain": [
       "<Figure size 300x150 with 1 Axes>"
      ]
     },
     "metadata": {},
     "output_type": "display_data"
    }
   ],
   "source": [
    "hidden_size = 128\n",
    "lr = 1e-6# * 10\n",
    "Horizon_Length = 16\n",
    "RollOuts = 16*2\n",
    "batch_size = 32*2#Horizon_Length# * RollOuts\n",
    "gamma = 0.95\n",
    "Max_reward = 500\n",
    "rx = 2\n",
    "num_of_u = 500\n",
    "actions_set = 10 * (np.random.rand(1,num_of_u) - 0.5)\n",
    "EffectiveHorizonLength = (1 - gamma ** Horizon_Length) / (1 - gamma)\n",
    "agent = DQN_Agent(state_dim=rx, number_of_actions=num_of_u, hidden_size=hidden_size, gamma=gamma, device=device, tau=0.01, capacity=batch_size*16, lr=lr)\n",
    "rewards = []\n",
    "avg_rewards = []\n",
    "EpisodesNumber = 500\n",
    "epsilon = 0.2\n",
    "fig= plt.figure(figsize=(FigDim1,FigDim2))\n",
    "pl.style.use('ggplot')\n",
    "pl.rc('xtick', labelsize=7) #fontsize of the x tick labels\n",
    "pl.rc('ytick', labelsize=7) #fontsize of the y tick labels\n",
    "pl.xlabel('episode number', fontsize=9)  \n",
    "pl.ylabel('normalized reward', fontsize=9) \n",
    "pl.rc('text', usetex=True)\n",
    "\n",
    "for episode in range(EpisodesNumber):\n",
    "    episode_reward = 0\n",
    "    ExplorationGamma = (EpisodesNumber - episode) / EpisodesNumber\n",
    "    if (episode%200==0 & episode>1):\n",
    "        print()\n",
    "        #agent.critic_learning_rate = agent.critic_learning_rate * 1/2\n",
    "        #agent.actor_learning_rate = agent.actor_learning_rate * 1/2\n",
    "    for jj in range(RollOuts):\n",
    "        Hyperstate.ChangeInitialStates(torch.atleast_2d(20*(torch.rand(1, 1)-0.5)), torch.atleast_2d(20 * torch.rand(1, 1)))\n",
    "        for step in range(Horizon_Length):\n",
    "            state = torch.cat((Hyperstate.Mean.T, Hyperstate.Covariance.T), dim=1).to(device)\n",
    "            action_index = agent.get_action_index(state, epsilon).to(deviceCPU)\n",
    "            action = actions_set[0, action_index.detach()]\n",
    "            action = torch.atleast_2d(action + 0*ExplorationGamma * 2.0*torch.randn(1, 1)).detach()\n",
    "            true_state = torch.sqrt(Hyperstate.Covariance) * torch.randn(1, 1) + Hyperstate.Mean #we might need next t-step\n",
    "            true_state_Plus = stateDynamics(true_state, action) + torch.sqrt(Q) * torch.randn(1, 1)\n",
    "            measurement_Plus_realization = measurementDynamics(true_state_Plus) + torch.sqrt(R) * torch.randn(1, 1)\n",
    "            reward = - ((Hyperstate.Mean) ** 2 + Hyperstate.Covariance + action ** 2) ###########################\n",
    "            if reward < -Max_reward:\n",
    "                reward = torch.tensor([[-Max_reward]])\n",
    "            \n",
    "            Hyperstate.ApplyEKF(action, measurement_Plus_realization)\n",
    "            new_state = torch.cat((Hyperstate.Mean.T, Hyperstate.Covariance.T), dim=1)\n",
    "\n",
    "            reward = reward.detach() / Max_reward \n",
    "            agent.Memory.push(state, action_index, reward, new_state)\n",
    "            state = new_state\n",
    "            episode_reward += reward * gamma ** step\n",
    "    if len(agent.Memory) >= batch_size:\n",
    "        for jjj in  range(8):\n",
    "            agent.update_network(batch_size)\n",
    "\n",
    "    rewards.append(episode_reward.numpy() / (EffectiveHorizonLength * RollOuts) + 1)\n",
    "    avg_rewards.append(np.mean(rewards[-10:]))\n",
    "    if episode%10==0:\n",
    "        pl.plot(avg_rewards, 'r')\n",
    "        pl.title(round(avg_rewards[-1], 3))\n",
    "        display.clear_output(wait=True)\n",
    "        display.display(pl.gcf())\n",
    "        time.sleep(0.001)"
   ]
  },
  {
   "cell_type": "code",
   "execution_count": null,
   "metadata": {},
   "outputs": [
    {
     "name": "stdout",
     "output_type": "stream",
     "text": [
      "tensor([[1, 2, 1, 2]])\n",
      "[[0.14332219 0.66871022 0.92272566 0.17487124 0.39337098 0.25016459\n",
      "  0.27956695 0.54229418 0.81276702 0.10209268]]\n"
     ]
    }
   ],
   "source": [
    "aa = torch.tensor([[1, 2]])\n",
    "\n",
    "print(torch.cat((aa,aa), dim=1))\n",
    "print(np.random.rand(1,10))"
   ]
  },
  {
   "cell_type": "code",
   "execution_count": null,
   "metadata": {},
   "outputs": [
    {
     "data": {
      "text/plain": [
       "<matplotlib.colorbar.Colorbar at 0x296afe150>"
      ]
     },
     "execution_count": 187,
     "metadata": {},
     "output_type": "execute_result"
    },
    {
     "data": {
      "image/png": "[encoded data removed]",
      "text/plain": [
       "<Figure size 640x480 with 2 Axes>"
      ]
     },
     "metadata": {},
     "output_type": "display_data"
    }
   ],
   "source": [
    "K = agent.get_action_index#get_action\n",
    "t = torch.atleast_2d(torch.linspace(-7, 7, 100))\n",
    "\n",
    "plt.figure()\n",
    "N=200\n",
    "x=torch.linspace(-15,15,N)\n",
    "y=torch.linspace(0,12,N)\n",
    "xx, yy = torch.meshgrid(x,y)\n",
    "uu = xx -0.1\n",
    "\n",
    "for i in range(N):\n",
    "    for j in range(N):\n",
    "        state = torch.tensor((xx[i, j], yy[i, j])).T\n",
    "        state = torch.atleast_2d(state)\n",
    "        uu[i, j] = actions_set[0,K(state, 0).detach()]\n",
    "\n",
    "plt.contourf(xx.detach().numpy(), yy.detach().numpy(), uu.detach().numpy())\n",
    "plt.colorbar()\n"
   ]
  },
  {
   "cell_type": "code",
   "execution_count": null,
   "metadata": {},
   "outputs": [
    {
     "data": {
      "text/plain": [
       "[<matplotlib.lines.Line2D at 0x29ac84750>]"
      ]
     },
     "execution_count": 232,
     "metadata": {},
     "output_type": "execute_result"
    },
    {
     "data": {
      "image/png": "[encoded data removed]",
      "text/plain": [
       "<Figure size 300x150 with 1 Axes>"
      ]
     },
     "metadata": {},
     "output_type": "display_data"
    }
   ],
   "source": [
    "T = 100\n",
    "x = np.ones(T)\n",
    "P = np.ones(T)\n",
    "u = np.ones(T)\n",
    "x_true=np.ones(T)\n",
    "\n",
    "StateReq = deque([])\n",
    "ActionReq = deque([])\n",
    "\n",
    "\n",
    "Hyperstate.ChangeInitialStates(torch.atleast_2d(torch.randn(1, 1)), torch.atleast_2d(torch.rand(1, 1)))\n",
    "true_state = torch.sqrt(Hyperstate.Covariance) * torch.randn(1, 1) + Hyperstate.Mean #we might need next t-step\n",
    "\n",
    "for k in range(T):\n",
    "    state = torch.cat((Hyperstate.Mean, Hyperstate.Covariance)).T\n",
    "    action = torch.from_numpy(np.array([actions_set[0,K(state, 0).detach()]]))\n",
    "    true_state_Plus = stateDynamics(true_state, action) + torch.sqrt(Q) * torch.randn(1, 1)\n",
    "    measurement_Plus_realization = measurementDynamics(true_state_Plus) + torch.sqrt(R) * torch.randn(1, 1)\n",
    "    StateReq.append(state)\n",
    "    ActionReq.append(action)\n",
    "    Hyperstate.ApplyEKF(action, measurement_Plus_realization)\n",
    "    true_state = true_state_Plus\n",
    "    x_true[k] = true_state[0,0].detach().numpy()\n",
    "\n",
    "\n",
    "for i in range(T):\n",
    "    A = StateReq[i].detach().numpy()\n",
    "    x[i] = A[0,0]\n",
    "    P[i] = A[0,1]\n",
    "    A = np.atleast_2d(ActionReq[i].detach().numpy())\n",
    "    u[i] = A[0,0]\n",
    "\n",
    "plt.style.use('ggplot')\n",
    "fig= plt.figure(figsize=(FigDim1,FigDim2))\n",
    "plt.rc('xtick', labelsize=7) #fontsize of the x tick labels\n",
    "plt.rc('ytick', labelsize=7) #fontsize of the y tick labels\n",
    "plt.xlabel('$k$', fontsize=9)  \n",
    "plt.ylabel('magnitude', fontsize=9) \n",
    "plt.rc( 'text', usetex=True )\n",
    "\n",
    "k=56\n",
    "plt.plot(range(T), x, color=list(colors.cnames)[k+4])\n",
    "plt.plot(range(T), P, color=list(colors.cnames)[k+2])\n",
    "plt.plot(range(T), x_true, linewidth = 1, color=list(colors.cnames)[k+3])\n",
    "\n",
    "#if saveFigs==True:\n",
    "    #plt.savefig('Figures/Example1_ReinfLearn.pdf',bbox_inches =\"tight\")\n"
   ]
  },
  {
   "cell_type": "code",
   "execution_count": null,
   "metadata": {},
   "outputs": [
    {
     "name": "stdout",
     "output_type": "stream",
     "text": [
      "tensor([[-0.2249]])\n",
      "tensor([[-2.7238, -2.9487]]) tensor([[-0.2249]]) tensor([-2.4989])\n"
     ]
    }
   ],
   "source": [
    "print(torch.tensor([[1]]) * true_state )\n",
    "print(stateDynamics(true_state, torch.atleast_2d(action)), true_state, action)"
   ]
  },
  {
   "cell_type": "code",
   "execution_count": null,
   "metadata": {},
   "outputs": [
    {
     "data": {
      "text/plain": [
       "[<matplotlib.lines.Line2D at 0x29ae3e810>]"
      ]
     },
     "execution_count": 235,
     "metadata": {},
     "output_type": "execute_result"
    },
    {
     "data": {
      "image/png": "[encoded data removed]",
      "text/plain": [
       "<Figure size 300x150 with 1 Axes>"
      ]
     },
     "metadata": {},
     "output_type": "display_data"
    }
   ],
   "source": [
    "Klqr_tensor = torch.from_numpy(Klqr)\n",
    "x = np.ones(T)\n",
    "P = np.ones(T)\n",
    "x_true=np.ones(T)\n",
    "\n",
    "StateReq = deque([])\n",
    "ActionReq = deque([])\n",
    "\n",
    "Hyperstate.ChangeInitialStates(torch.atleast_2d(torch.randn(1, 1)), torch.atleast_2d(torch.rand(1, 1)))\n",
    "true_state = torch.sqrt(Hyperstate.Covariance) * torch.randn(1, 1) + Hyperstate.Mean \n",
    "\n",
    "for k in range(T):\n",
    "    state = torch.cat((Hyperstate.Mean, Hyperstate.Covariance)).T\n",
    "    action = -Klqr_tensor * (state[0,0]) \n",
    "    action = action.clip(-5, 5)\n",
    "    action = torch.atleast_2d(action.detach())\n",
    "    true_state_Plus = stateDynamics(true_state, action) + torch.sqrt(Q) * torch.randn(1, 1)\n",
    "    measurement_Plus_realization = measurementDynamics(true_state_Plus) + torch.sqrt(R) * torch.randn(1, 1)\n",
    "    StateReq.append(state)\n",
    "    Hyperstate.ApplyEKF(action, measurement_Plus_realization)\n",
    "    true_state = true_state_Plus\n",
    "    x_true[k] = true_state[0,0].detach().numpy()\n",
    "\n",
    "for i in range(T):\n",
    "    A = StateReq[i].detach().numpy()\n",
    "    x[i] = A[0,0]\n",
    "    P[i] = A[0,1]\n",
    "\n",
    "plt.style.use('ggplot')\n",
    "fig= plt.figure(figsize=(FigDim1,FigDim2))\n",
    "plt.rc('xtick', labelsize=7) #fontsize of the x tick labels\n",
    "plt.rc('ytick', labelsize=7) #fontsize of the y tick labels\n",
    "plt.xlabel('$k$', fontsize=9)  \n",
    "#plt.ylabel('$k$', fontsize=9) \n",
    "plt.ylabel('magnitude', fontsize=9) \n",
    "plt.rc( 'text', usetex=True )\n",
    "#plt.ylim([-500, 500])\n",
    "k=56\n",
    "plt.plot(range(T), x, color=list(colors.cnames)[k+4])\n",
    "plt.plot(range(T), P, color=list(colors.cnames)[k+2])\n",
    "plt.plot(range(T), x_true, linewidth = 1,color=list(colors.cnames)[k+3])\n",
    "#if saveFigs==True:\n",
    " #   plt.savefig('Figures/Example1_LQR.pdf',bbox_inches =\"tight\")\n"
   ]
  },
  {
   "cell_type": "code",
   "execution_count": null,
   "metadata": {},
   "outputs": [
    {
     "name": "stdout",
     "output_type": "stream",
     "text": [
      "<bound method Actor.forward of Actor(\n",
      "  (OneFunc): Sequential(\n",
      "    (0): BatchNorm1d(2, eps=1e-05, momentum=0.1, affine=True, track_running_stats=True)\n",
      "    (1): Linear(in_features=2, out_features=64, bias=True)\n",
      "    (2): ELU(alpha=1.0)\n",
      "    (3): BatchNorm1d(64, eps=1e-05, momentum=0.1, affine=True, track_running_stats=True)\n",
      "    (4): Linear(in_features=64, out_features=64, bias=True)\n",
      "    (5): ELU(alpha=1.0)\n",
      "    (6): BatchNorm1d(64, eps=1e-05, momentum=0.1, affine=True, track_running_stats=True)\n",
      "    (7): Linear(in_features=64, out_features=1, bias=True)\n",
      "    (8): Tanh()\n",
      "  )\n",
      ")>\n",
      "tensor([[0.8535]], grad_fn=<MulBackward0>)\n"
     ]
    }
   ],
   "source": [
    "\n",
    "import pickle\n",
    "\n",
    "with open('StateFeedbackGainFunction.pkl', 'wb') as outp:\n",
    "    pickle.dump(K, outp, pickle.HIGHEST_PROTOCOL)\n",
    "\n",
    "\n",
    "with open('StateFeedbackGainFunction.pkl', 'rb') as inp:\n",
    "    K1 = pickle.load(inp)\n",
    "    print(K1)\n",
    "\n",
    "A = torch.tensor([1,1])\n",
    "print(K1(torch.atleast_2d(A)))"
   ]
  },
  {
   "cell_type": "code",
   "execution_count": null,
   "metadata": {},
   "outputs": [
    {
     "name": "stdout",
     "output_type": "stream",
     "text": [
      "[28]\n"
     ]
    }
   ],
   "source": [
    "A = agent.actorNet.forward(state)\n",
    "i = random.sample(range(len(A.T)), k=1)\n",
    "print(i)"
   ]
  }
 ],
 "metadata": {
  "kernelspec": {
   "display_name": "Python 3",
   "language": "python",
   "name": "python3"
  },
  "language_info": {
   "codemirror_mode": {
    "name": "ipython",
    "version": 3
   },
   "file_extension": ".py",
   "mimetype": "text/x-python",
   "name": "python",
   "nbconvert_exporter": "python",
   "pygments_lexer": "ipython3",
   "version": "3.9.13"
  },
  "orig_nbformat": 4
 },
 "nbformat": 4,
 "nbformat_minor": 2
}
