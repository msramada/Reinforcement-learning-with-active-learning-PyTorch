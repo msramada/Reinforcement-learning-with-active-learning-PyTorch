{
 "cells": [
  {
   "cell_type": "code",
   "execution_count": 29,
   "metadata": {},
   "outputs": [
    {
     "name": "stdout",
     "output_type": "stream",
     "text": [
      "cpu cpu\n"
     ]
    }
   ],
   "source": [
    "import torch\n",
    "import numpy as np\n",
    "import matplotlib.pyplot as plt\n",
    "import matplotlib.colors as colors\n",
    "plt.style.use('ggplot')\n",
    "plt.rc('xtick', labelsize=7) #fontsize of the x tick labels\n",
    "plt.rc('ytick', labelsize=7) #fontsize of the y tick labels\n",
    "from IPython import display\n",
    "from collections import deque, namedtuple\n",
    "import pickle\n",
    "import control\n",
    "from ExtKalmanFilter import *\n",
    "from ppo import PPO\n",
    "from DynamicsFixedGain import *\n",
    "from sqrtm import sqrtm\n",
    "from Utilities import rewardFunction#, Cov2Vec, Vec2Cov\n",
    "torch.set_default_dtype(torch.float64)\n",
    "device = torch.device(\"cuda\" if torch.cuda.is_available() else \"cpu\")\n",
    "deviceCPU = torch.device(\"cpu\")\n",
    "print(device, deviceCPU)"
   ]
  },
  {
   "cell_type": "code",
   "execution_count": 30,
   "metadata": {},
   "outputs": [
    {
     "name": "stdout",
     "output_type": "stream",
     "text": [
      "x_{k|k}=  tensor([[-0.5573]]) \\Sigma_{k|k}=  tensor([[1.]])\n"
     ]
    }
   ],
   "source": [
    "# Figures parameters\n",
    "saveFigs = True\n",
    "FigDim1 = 3.0\n",
    "FigDim2 = 1.5\n",
    "# Noise parameters Cov(w), Cov(v), respectively\n",
    "Q = 0.5 * torch.diag(1.0 * torch.ones(rx,))\n",
    "#Q[1,1] = 0.1\n",
    "R = 1 * torch.diag(1.0 * torch.ones(ry,))\n",
    "# Dimensions\n",
    "# LQR control in the Certainty Equivalence case\n",
    "A = f_Jacobian(torch.zeros(rx, 1), torch.zeros(ru, 1)) #Linearization about 0\n",
    "Q_lqr = torch.diag(1.0 * torch.ones(rx,))\n",
    "R_lqr = torch.diag(1.0 * torch.ones(ru,))\n",
    "Klqr, _, _ = control.dlqr(A, torch.tensor([[1]]), Q_lqr, R_lqr)\n",
    "Klqr = torch.from_numpy(Klqr)\n",
    "# Define model: dynamics, dynamics gradients, and noise covariances.\n",
    "model = Model(stateDynamics, measurementDynamics, f_Jacobian, g_Jacobian, Q, R)\n",
    "# Define information state: (mean, covariance), from an extended Kalman Fitler.\n",
    "x0=torch.randn(rx, 1)\n",
    "P0=torch.diag(torch.ones(rx,))\n",
    "Hyperstate = Extended_KF(x0, P0, model)\n",
    "Hyperstate.printem()"
   ]
  },
  {
   "cell_type": "code",
   "execution_count": 6,
   "metadata": {},
   "outputs": [
    {
     "data": {
      "image/png": "[encoded data removed]",
      "text/plain": [
       "<Figure size 300x150 with 1 Axes>"
      ]
     },
     "metadata": {},
     "output_type": "display_data"
    },
    {
     "data": {
      "image/png": "[encoded data removed]",
      "text/plain": [
       "<Figure size 300x150 with 1 Axes>"
      ]
     },
     "metadata": {},
     "output_type": "display_data"
    }
   ],
   "source": [
    "hidden_dim = 64\n",
    "actor_lr = 1e-5# * 10\n",
    "val_lr = actor_lr * 10\n",
    "Horizon_Length = 8\n",
    "RollOuts = 8\n",
    "gamma = 0.95\n",
    "max_stageCost = 1e3\n",
    "action_std = torch.tensor([2.0])\n",
    "RewardNormalizer = (1 - gamma**Horizon_Length) / (1 - gamma) * RollOuts\n",
    "AGENT = PPO(ru, rx * 2, hidden_dim, val_lr, actor_lr, action_std, device)\n",
    "NumberOf_Episodes = 500\n",
    "epochs = 8\n",
    "\n",
    "rewards = []\n",
    "avg_rewards = []\n",
    "fig= plt.figure(figsize=(FigDim1,FigDim2))\n",
    "for episode in range(NumberOf_Episodes):\n",
    "    episode_reward = 0#torch.tensor([[0.0]])\n",
    "    LinearDecay = (NumberOf_Episodes - episode) / NumberOf_Episodes\n",
    "    AGENT.action_std = action_std * LinearDecay\n",
    "    for trial in range(RollOuts):\n",
    "        # Initial conditions of this rollout\n",
    "        Cov0 = 10 * torch.diag(torch.rand(rx,))\n",
    "        #Cov0[1,1]=torch.rand(1,) * 1\n",
    "        x0 = 10 * torch.randn(rx, 1)\n",
    "        #x0[2] = abs(x0[2]) % (2*torch.pi)\n",
    "        #x0[1] = 2 + 0.5 * torch.randn(1,)\n",
    "        #x0[2] = 2 + 0.5 * torch.randn(1,)\n",
    "        #x0[1] = 1.0 + torch.sqrt(torch.tensor(0.2))*torch.randn(1,)\n",
    "        Hyperstate.ChangeInitialStates(x0, Cov0)\n",
    "        # Horizon of this rollout\n",
    "        for k in range(Horizon_Length):\n",
    "            state = torch.cat((Hyperstate.Mean.T, torch.diag(Hyperstate.Covariance).unsqueeze(0)), dim=1).to(device)\n",
    "            action = AGENT.get_action(state)\n",
    "            action += AGENT.action_std * torch.randn(ru,)\n",
    "            action = action.to(deviceCPU)\n",
    "            action = action.T\n",
    "            # Adding some exploration effort\n",
    "            action = torch.atleast_2d(action).detach() \n",
    "            # Create a transition\n",
    "            true_state = Hyperstate.Mean + sqrtm(Hyperstate.Covariance) @ torch.randn(rx, 1) #we might need next t-step\n",
    "            true_state_Plus = stateDynamics(true_state, action) + sqrtm(Q) @ torch.randn(rx, 1)\n",
    "            measurement_Plus_realization = measurementDynamics(true_state_Plus, action) + sqrtm(R) @ torch.randn(ry, 1)\n",
    "            # reward function\n",
    "            reward = 1 + rewardFunction(Hyperstate.Mean, Hyperstate.Covariance, action, Q_lqr, R_lqr, max_stageCost)\n",
    "            # Advance to next hyperstate\n",
    "            Hyperstate.ApplyEKF(action, measurement_Plus_realization)\n",
    "\n",
    "            new_state = torch.cat((Hyperstate.Mean.T, torch.diag(Hyperstate.Covariance).unsqueeze(0)), dim=1)\n",
    "            AGENT.ReplayBuffer.push(state, action.T, reward, new_state, torch.tensor([[k]]))\n",
    "            state = new_state\n",
    "            episode_reward += reward * gamma ** k\n",
    "    AGENT.train(epochs= epochs)\n",
    "\n",
    "\n",
    "    rewards.append(episode_reward.numpy() / RewardNormalizer)\n",
    "    avg_rewards.append(np.mean(rewards[-10:]))\n",
    "    if (episode%1==0):\n",
    "        plt.clf()\n",
    "        plt.plot(avg_rewards, 'r')\n",
    "        display.clear_output(wait=True)\n",
    "        display.display(plt.gcf())\n",
    "    \n",
    "\n"
   ]
  },
  {
   "cell_type": "code",
   "execution_count": 7,
   "metadata": {},
   "outputs": [
    {
     "data": {
      "image/png": "[encoded data removed]",
      "text/plain": [
       "<Figure size 300x150 with 1 Axes>"
      ]
     },
     "metadata": {},
     "output_type": "display_data"
    }
   ],
   "source": [
    "plt.style.use('ggplot')\n",
    "fig= plt.figure(figsize=(FigDim1,FigDim2))\n",
    "plt.rc('xtick', labelsize=7) #fontsize of the x tick labels\n",
    "plt.rc('ytick', labelsize=7) #fontsize of the y tick labels\n",
    "plt.xlabel('episode number', fontsize=9)  \n",
    "plt.ylabel('normalized reward', fontsize=9) \n",
    "plt.plot(avg_rewards)\n",
    "plt.ylim([0.0, 1])\n",
    "if saveFigs==True:\n",
    "    plt.savefig('Figures/Example1_avgReward.pdf',bbox_inches =\"tight\")\n",
    "plt.show()\n",
    "\n",
    "\n",
    "K = AGENT.get_action#get_action\n",
    "\n",
    "with open('Data/StateFeedbackGainFunction.pkl', 'wb') as outp:\n",
    "    pickle.dump(K, outp, pickle.HIGHEST_PROTOCOL)\n",
    "\n",
    "#with open('StateFeedbackGainFunction.pkl', 'rb') as inp:\n",
    "    #K1 = pickle.load(inp)"
   ]
  },
  {
   "cell_type": "code",
   "execution_count": 39,
   "metadata": {},
   "outputs": [
    {
     "data": {
      "image/png": "[encoded data removed]",
      "text/plain": [
       "<Figure size 300x150 with 1 Axes>"
      ]
     },
     "metadata": {},
     "output_type": "display_data"
    }
   ],
   "source": [
    "T = 50\n",
    "\n",
    "StateRec = deque([])\n",
    "CovRec = deque([])\n",
    "ActionRec = deque([])\n",
    "StateRec_true = deque([])\n",
    "Cov0 = 10 * torch.diag(torch.rand(rx,))\n",
    "#Cov0[1,1] = torch.rand(1,)\n",
    "x0 = 5 * torch.randn(rx, 1)\n",
    "#x0[1] = 2 + 0.5 * torch.randn(1,)\n",
    "#x0[2] = 2 + 0.5 * torch.randn(1,)\n",
    "#x0[1] = 1 + 0.5 * torch.randn(1,)\n",
    "Hyperstate.ChangeInitialStates(x0, Cov0)\n",
    "true_state = Hyperstate.Mean + sqrtm(Hyperstate.Covariance) @ torch.randn(rx, 1) #we might need next t-step\n",
    "\n",
    "\n",
    "for k in range(T):\n",
    "    state = torch.cat((Hyperstate.Mean.T, torch.diag(Hyperstate.Covariance).unsqueeze(0)), dim=1)\n",
    "    action = K(state)\n",
    "    action = torch.atleast_2d(action.detach()).T\n",
    "    true_state_Plus = stateDynamics(true_state, action) + sqrtm(Q) @ torch.randn(rx, 1)\n",
    "    measurement_Plus_realization = measurementDynamics(true_state_Plus, action) + sqrtm(R) @ torch.randn(ry, 1)\n",
    "    StateRec.append(Hyperstate.Mean)\n",
    "    CovRec.append(Hyperstate.Covariance)\n",
    "    ActionRec.append(action)\n",
    "    StateRec_true.append(true_state)\n",
    "    Hyperstate.ApplyEKF(action, measurement_Plus_realization)\n",
    "    true_state = true_state_Plus\n",
    "x = np.ones((rx, T))\n",
    "x_true = np.ones((rx, T))\n",
    "P = np.ones((rx ** 2, T))\n",
    "for i in range(T):\n",
    "    x[:,i] = StateRec[i].detach().numpy().squeeze()\n",
    "    x_true[:,i] = StateRec_true[i].detach().numpy().squeeze()\n",
    "    P[:,i] = CovRec[i].detach().numpy().squeeze().flatten()\n",
    "\n",
    "plt.style.use('ggplot')\n",
    "fig= plt.figure(figsize=(FigDim1,FigDim2))\n",
    "plt.rc('xtick', labelsize=7) #fontsize of the x tick labels\n",
    "plt.rc('ytick', labelsize=7) #fontsize of the y tick labels\n",
    "plt.xlabel('$k$', fontsize=9)  \n",
    "plt.ylabel('magnitude', fontsize=9) \n",
    "\n",
    "k=56\n",
    "plt.plot(range(T), x[0,:], color=list(colors.cnames)[k+4])\n",
    "plt.plot(range(T), P[0,:], color=list(colors.cnames)[k+2])\n",
    "plt.plot(range(T), x_true[0,:], linewidth = 1, color=list(colors.cnames)[k+3])\n",
    "#fig= plt.figure(figsize=(FigDim1,FigDim2))\n",
    "#plt.plot(x[0,:], x[1,:], '-.', linewidth = 1, color=list(colors.cnames)[k+3])\n",
    "if saveFigs==True:\n",
    "   plt.savefig('Figures/Example1_ReinfLearn.pdf',bbox_inches =\"tight\")\n"
   ]
  },
  {
   "cell_type": "code",
   "execution_count": 55,
   "metadata": {},
   "outputs": [
    {
     "data": {
      "image/png": "[encoded data removed]",
      "text/plain": [
       "<Figure size 300x150 with 1 Axes>"
      ]
     },
     "metadata": {},
     "output_type": "display_data"
    }
   ],
   "source": [
    "T = 50\n",
    "\n",
    "StateRec = deque([])\n",
    "CovRec = deque([])\n",
    "ActionRec = deque([])\n",
    "StateRec_true = deque([])\n",
    "Cov0 = 2 * torch.diag(torch.rand(rx,))\n",
    "x0 = 5 * torch.randn(rx, 1)\n",
    "#x0[1] = 2 + 0.5 * torch.randn(1,)\n",
    "#x0[2] = 2 + 0.5 * torch.randn(1,)\n",
    "Hyperstate.ChangeInitialStates(x0, Cov0)\n",
    "true_state = Hyperstate.Mean + sqrtm(Hyperstate.Covariance) @ torch.randn(rx, 1) #we might need next t-step\n",
    "\n",
    "\n",
    "for k in range(T):\n",
    "    state = torch.cat((Hyperstate.Mean.T, torch.diag(Hyperstate.Covariance).unsqueeze(0)), dim=1)\n",
    "    action = -Klqr * Hyperstate.Mean#torch.randn(1,1)#torch.tensor([[0.0]]) #K(state)\n",
    "    action = torch.atleast_2d(action.detach()).T\n",
    "    true_state_Plus = stateDynamics(true_state, action) + sqrtm(Q) @ torch.randn(rx, 1)\n",
    "    measurement_Plus_realization = measurementDynamics(true_state_Plus, action) + sqrtm(R) @ torch.randn(ry, 1)\n",
    "    StateRec.append(Hyperstate.Mean)\n",
    "    CovRec.append(Hyperstate.Covariance)\n",
    "    ActionRec.append(action)\n",
    "    StateRec_true.append(true_state)\n",
    "    Hyperstate.ApplyEKF(action, measurement_Plus_realization)\n",
    "    true_state = true_state_Plus\n",
    "x = np.ones((rx, T))\n",
    "x_true = np.ones((rx, T))\n",
    "P = np.ones((rx ** 2, T))\n",
    "for i in range(T):\n",
    "    x[:,i] = StateRec[i].detach().numpy().squeeze()\n",
    "    x_true[:,i] = StateRec_true[i].detach().numpy().squeeze()\n",
    "    P[:,i] = CovRec[i].detach().numpy().squeeze().flatten()\n",
    "\n",
    "plt.style.use('ggplot')\n",
    "fig= plt.figure(figsize=(FigDim1,FigDim2))\n",
    "plt.rc('xtick', labelsize=7) #fontsize of the x tick labels\n",
    "plt.rc('ytick', labelsize=7) #fontsize of the y tick labels\n",
    "plt.xlabel('$k$', fontsize=9)  \n",
    "plt.ylabel('magnitude', fontsize=9) \n",
    "\n",
    "k=56\n",
    "plt.plot(range(T), x[0,:], color=list(colors.cnames)[k+4])\n",
    "plt.plot(range(T), P[0,:], color=list(colors.cnames)[k+2])\n",
    "plt.plot(range(T), x_true[0,:], linewidth = 1, color=list(colors.cnames)[k+3])\n",
    "#plt.ylim([-20, 20])\n",
    "if saveFigs==True:\n",
    "   plt.savefig('Figures/Example1_LQR.pdf',bbox_inches =\"tight\")\n"
   ]
  },
  {
   "cell_type": "code",
   "execution_count": 10,
   "metadata": {},
   "outputs": [
    {
     "name": "stdout",
     "output_type": "stream",
     "text": [
      "[[-2.40962678]]\n"
     ]
    }
   ],
   "source": [
    "print(StateRec[0].detach().numpy())"
   ]
  },
  {
   "cell_type": "code",
   "execution_count": 11,
   "metadata": {},
   "outputs": [
    {
     "name": "stdout",
     "output_type": "stream",
     "text": [
      "tensor([-1.2158, -1.4897,  2.2174, -0.7479, -2.8915, -1.3642,  0.3287,  0.0052,\n",
      "        -1.0689,  0.0617])\n"
     ]
    }
   ],
   "source": [
    "action_error = torch.randn(10,2)\n",
    "print(action_error.sum(dim=1))"
   ]
  },
  {
   "cell_type": "code",
   "execution_count": 12,
   "metadata": {},
   "outputs": [
    {
     "name": "stdout",
     "output_type": "stream",
     "text": [
      "tensor([5.])\n",
      "tensor([[6.]])\n",
      "tensor(1.)\n"
     ]
    }
   ],
   "source": [
    "u = torch.tensor([[1.0],[2.0]])\n",
    "x = torch.tensor([[5.0, 1.0, 3.2]]).T\n",
    "print(x[0])\n",
    "print(stateDynamics(x, u))\n",
    "print(f_Jacobian(x, u).trace())"
   ]
  },
  {
   "cell_type": "code",
   "execution_count": 13,
   "metadata": {},
   "outputs": [
    {
     "name": "stdout",
     "output_type": "stream",
     "text": [
      "tensor([0.9500+0.j, 0.8000+0.j, 0.9000+0.j])\n"
     ]
    }
   ],
   "source": [
    "A = torch.tensor([[0.9, 0, 0],\n",
    "                  [-0.05, 0.8, 0],\n",
    "                  [-0.2, 0, 0.95]])\n",
    "L, V = torch.linalg.eig(A)\n",
    "print(L)"
   ]
  },
  {
   "cell_type": "code",
   "execution_count": 14,
   "metadata": {},
   "outputs": [
    {
     "name": "stdout",
     "output_type": "stream",
     "text": [
      "tensor([[0.0095]])\n",
      "tensor([[-5.0642]])\n",
      "tensor([[-5.0642,  0.0095]])\n"
     ]
    }
   ],
   "source": [
    "print(torch.diag(Hyperstate.Covariance).unsqueeze(0))\n",
    "print(Hyperstate.Mean.T)\n",
    "print(torch.cat((Hyperstate.Mean.T, torch.diag(Hyperstate.Covariance).unsqueeze(0)), dim=1))"
   ]
  },
  {
   "cell_type": "code",
   "execution_count": 15,
   "metadata": {},
   "outputs": [
    {
     "name": "stdout",
     "output_type": "stream",
     "text": [
      "tensor([[0.0085]])\n"
     ]
    },
    {
     "data": {
      "text/plain": [
       "tensor([[0.0085]])"
      ]
     },
     "execution_count": 15,
     "metadata": {},
     "output_type": "execute_result"
    }
   ],
   "source": [
    "Hyperstate.Covariance = Hyperstate.Covariance + -0.001\n",
    "print(Hyperstate.Covariance)\n",
    "sqrtm(Hyperstate.Covariance @ Hyperstate.Covariance)"
   ]
  },
  {
   "cell_type": "code",
   "execution_count": 16,
   "metadata": {},
   "outputs": [
    {
     "name": "stdout",
     "output_type": "stream",
     "text": [
      "4\n",
      "3\n",
      "2\n",
      "1\n",
      "0\n",
      "torch.Size([5, 1])\n"
     ]
    }
   ],
   "source": [
    "import torch\n",
    "A = torch.rand(5, 1)\n",
    "B = torch.tensor([1,2,3,4,1])\n",
    "for j in reversed(range(5)):\n",
    "    print(j)\n",
    "print(A.shape)"
   ]
  },
  {
   "cell_type": "code",
   "execution_count": 17,
   "metadata": {},
   "outputs": [
    {
     "name": "stdout",
     "output_type": "stream",
     "text": [
      "tensor([[1, 2]]) tensor([[1., 0.],\n",
      "        [0., 1.]])\n",
      "tensor([2.8379])\n"
     ]
    }
   ],
   "source": [
    "from torch.distributions import MultivariateNormal\n",
    "action_mean = torch.tensor([[1, 2]])\n",
    "cov_mat = torch.diag(torch.ones(2,))\n",
    "print(action_mean, cov_mat)\n",
    "dist = MultivariateNormal(action_mean, cov_mat)\n",
    "Actions = torch.randn(10,2)\n",
    "print(dist.entropy())"
   ]
  },
  {
   "cell_type": "code",
   "execution_count": 18,
   "metadata": {},
   "outputs": [
    {
     "name": "stdout",
     "output_type": "stream",
     "text": [
      "tensor(2)\n",
      "4\n",
      "tensor([2])\n"
     ]
    }
   ],
   "source": [
    "time_step_k = torch.tensor([[1],[2],[1],[2]])\n",
    "print((time_step_k == time_step_k.max()).sum())\n",
    "print(time_step_k.shape[0])\n",
    "print(time_step_k[-1,:])\n"
   ]
  },
  {
   "cell_type": "code",
   "execution_count": 19,
   "metadata": {},
   "outputs": [
    {
     "name": "stdout",
     "output_type": "stream",
     "text": [
      "tensor([1., 1., 1., 1., 1., 1.])\n"
     ]
    }
   ],
   "source": [
    "A = torch.ones(6,3)\n",
    "\n",
    "print(A.mean(dim=1))"
   ]
  },
  {
   "cell_type": "code",
   "execution_count": null,
   "metadata": {},
   "outputs": [],
   "source": []
  }
 ],
 "metadata": {
  "kernelspec": {
   "display_name": "Python 3",
   "language": "python",
   "name": "python3"
  },
  "language_info": {
   "codemirror_mode": {
    "name": "ipython",
    "version": 3
   },
   "file_extension": ".py",
   "mimetype": "text/x-python",
   "name": "python",
   "nbconvert_exporter": "python",
   "pygments_lexer": "ipython3",
   "version": "3.11.3"
  },
  "orig_nbformat": 4
 },
 "nbformat": 4,
 "nbformat_minor": 2
}
