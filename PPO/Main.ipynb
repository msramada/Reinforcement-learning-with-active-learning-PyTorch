{
 "cells": [
  {
   "cell_type": "code",
   "execution_count": 1,
   "metadata": {},
   "outputs": [
    {
     "name": "stdout",
     "output_type": "stream",
     "text": [
      "cpu cpu\n"
     ]
    }
   ],
   "source": [
    "import torch\n",
    "import numpy as np\n",
    "import matplotlib.pyplot as plt\n",
    "import matplotlib.colors as colors\n",
    "plt.style.use('ggplot')\n",
    "plt.rc('xtick', labelsize=7) #fontsize of the x tick labels\n",
    "plt.rc('ytick', labelsize=7) #fontsize of the y tick labels\n",
    "from IPython import display\n",
    "from collections import deque, namedtuple\n",
    "import pickle\n",
    "import control\n",
    "from ExtKalmanFilter import *\n",
    "from ppo import PPO\n",
    "from DynamicModels.DynamicsFixedGain import *\n",
    "from sqrtm import sqrtm\n",
    "from Utilities import rewardFunction#, Cov2Vec, Vec2Cov\n",
    "torch.set_default_dtype(torch.float64)\n",
    "device = torch.device(\"cuda\" if torch.cuda.is_available() else \"cpu\")\n",
    "deviceCPU = torch.device(\"cpu\")\n",
    "print(device, deviceCPU)"
   ]
  },
  {
   "cell_type": "code",
   "execution_count": 2,
   "metadata": {},
   "outputs": [
    {
     "name": "stdout",
     "output_type": "stream",
     "text": [
      "x_{k|k}=  tensor([[0.8618]]) \\Sigma_{k|k}=  tensor([[1.]])\n"
     ]
    }
   ],
   "source": [
    "# Figures parameters\n",
    "saveFigs = True\n",
    "FigDim1 = 3.0\n",
    "FigDim2 = 1.5\n",
    "# Noise parameters Cov(w), Cov(v), respectively\n",
    "Q = 1 * torch.diag(1.0 * torch.ones(rx,))\n",
    "#Q[2:5,2:5] = 0.05 * torch.diag(1.0 * torch.ones(rx-2,))\n",
    "Q_true = Q*0.1\n",
    "#Q_true[3:6,3:6] = 0.0\n",
    "R = 2 * torch.diag(1.0 * torch.ones(ry,))\n",
    "# Dimensions\n",
    "# LQR control in the Certainty Equivalence case\n",
    "A = f_Jacobian(torch.zeros(rx, 1), torch.zeros(ru, 1)) #Linearization about 0\n",
    "Q_lqr = torch.diag(1.0 * torch.ones(rx,))\n",
    "#Q_lqr[2:5,2:5] = 0.0\n",
    "R_lqr = torch.diag(1.0 * torch.ones(ru,))\n",
    "#Klqr, _, _ = control.dlqr(A, torch.tensor([[1]]), Q_lqr, R_lqr)\n",
    "# Define model: dynamics, dynamics gradients, and noise covariances.\n",
    "model = Model(stateDynamics, measurementDynamics, f_Jacobian, g_Jacobian, Q, R)\n",
    "# Define information state: (mean, covariance), from an extended Kalman Fitler.\n",
    "x0=torch.randn(rx, 1)\n",
    "P0=torch.diag(torch.ones(rx,))\n",
    "Hyperstate = Extended_KF(x0, P0, model)\n",
    "Hyperstate.printem()"
   ]
  },
  {
   "cell_type": "code",
   "execution_count": 3,
   "metadata": {},
   "outputs": [
    {
     "data": {
      "image/png": "[encoded data removed]",
      "text/plain": [
       "<Figure size 300x150 with 1 Axes>"
      ]
     },
     "metadata": {},
     "output_type": "display_data"
    },
    {
     "ename": "KeyboardInterrupt",
     "evalue": "",
     "output_type": "error",
     "traceback": [
      "\u001b[0;31m---------------------------------------------------------------------------\u001b[0m",
      "\u001b[0;31mKeyboardInterrupt\u001b[0m                         Traceback (most recent call last)",
      "Cell \u001b[0;32mIn[3], line 39\u001b[0m\n\u001b[1;32m     37\u001b[0m \u001b[39mfor\u001b[39;00m k \u001b[39min\u001b[39;00m \u001b[39mrange\u001b[39m(Horizon_Length):\n\u001b[1;32m     38\u001b[0m     state \u001b[39m=\u001b[39m torch\u001b[39m.\u001b[39mcat((Hyperstate\u001b[39m.\u001b[39mMean\u001b[39m.\u001b[39mT, torch\u001b[39m.\u001b[39mdiag(Hyperstate\u001b[39m.\u001b[39mCovariance)\u001b[39m.\u001b[39munsqueeze(\u001b[39m0\u001b[39m)), dim\u001b[39m=\u001b[39m\u001b[39m1\u001b[39m)\u001b[39m.\u001b[39mto(device)\n\u001b[0;32m---> 39\u001b[0m     action \u001b[39m=\u001b[39m AGENT\u001b[39m.\u001b[39;49mget_action(state)\n\u001b[1;32m     40\u001b[0m     action \u001b[39m+\u001b[39m\u001b[39m=\u001b[39m AGENT\u001b[39m.\u001b[39maction_std \u001b[39m*\u001b[39m torch\u001b[39m.\u001b[39mrandn(ru,)\n\u001b[1;32m     41\u001b[0m     action \u001b[39m=\u001b[39m action\u001b[39m.\u001b[39mto(deviceCPU)\n",
      "File \u001b[0;32m~/Library/CloudStorage/GoogleDrive-msramada@eng.ucsd.edu/My Drive/Academic/PythonCodes/RL_with_active_learning/PPO/ppo.py:25\u001b[0m, in \u001b[0;36mPPO.get_action\u001b[0;34m(self, state)\u001b[0m\n\u001b[1;32m     23\u001b[0m \u001b[39mdef\u001b[39;00m \u001b[39mget_action\u001b[39m(\u001b[39mself\u001b[39m, state): \u001b[39m#returns mean action\u001b[39;00m\n\u001b[1;32m     24\u001b[0m     \u001b[39mself\u001b[39m\u001b[39m.\u001b[39mActor\u001b[39m.\u001b[39meval()\n\u001b[0;32m---> 25\u001b[0m     \u001b[39mreturn\u001b[39;00m \u001b[39mself\u001b[39;49m\u001b[39m.\u001b[39;49mActor\u001b[39m.\u001b[39;49mforward(state)\n",
      "File \u001b[0;32m~/Library/CloudStorage/GoogleDrive-msramada@eng.ucsd.edu/My Drive/Academic/PythonCodes/RL_with_active_learning/PPO/Utilities.py:45\u001b[0m, in \u001b[0;36mActor_NN.forward\u001b[0;34m(self, x)\u001b[0m\n\u001b[1;32m     44\u001b[0m \u001b[39mdef\u001b[39;00m \u001b[39mforward\u001b[39m(\u001b[39mself\u001b[39m, x):\n\u001b[0;32m---> 45\u001b[0m     \u001b[39mreturn\u001b[39;00m \u001b[39mself\u001b[39;49m\u001b[39m.\u001b[39;49mSequential(x)\n",
      "File \u001b[0;32m/Library/Frameworks/Python.framework/Versions/3.11/lib/python3.11/site-packages/torch/nn/modules/module.py:1501\u001b[0m, in \u001b[0;36mModule._call_impl\u001b[0;34m(self, *args, **kwargs)\u001b[0m\n\u001b[1;32m   1496\u001b[0m \u001b[39m# If we don't have any hooks, we want to skip the rest of the logic in\u001b[39;00m\n\u001b[1;32m   1497\u001b[0m \u001b[39m# this function, and just call forward.\u001b[39;00m\n\u001b[1;32m   1498\u001b[0m \u001b[39mif\u001b[39;00m \u001b[39mnot\u001b[39;00m (\u001b[39mself\u001b[39m\u001b[39m.\u001b[39m_backward_hooks \u001b[39mor\u001b[39;00m \u001b[39mself\u001b[39m\u001b[39m.\u001b[39m_backward_pre_hooks \u001b[39mor\u001b[39;00m \u001b[39mself\u001b[39m\u001b[39m.\u001b[39m_forward_hooks \u001b[39mor\u001b[39;00m \u001b[39mself\u001b[39m\u001b[39m.\u001b[39m_forward_pre_hooks\n\u001b[1;32m   1499\u001b[0m         \u001b[39mor\u001b[39;00m _global_backward_pre_hooks \u001b[39mor\u001b[39;00m _global_backward_hooks\n\u001b[1;32m   1500\u001b[0m         \u001b[39mor\u001b[39;00m _global_forward_hooks \u001b[39mor\u001b[39;00m _global_forward_pre_hooks):\n\u001b[0;32m-> 1501\u001b[0m     \u001b[39mreturn\u001b[39;00m forward_call(\u001b[39m*\u001b[39;49margs, \u001b[39m*\u001b[39;49m\u001b[39m*\u001b[39;49mkwargs)\n\u001b[1;32m   1502\u001b[0m \u001b[39m# Do not call functions when jit is used\u001b[39;00m\n\u001b[1;32m   1503\u001b[0m full_backward_hooks, non_full_backward_hooks \u001b[39m=\u001b[39m [], []\n",
      "File \u001b[0;32m/Library/Frameworks/Python.framework/Versions/3.11/lib/python3.11/site-packages/torch/nn/modules/container.py:216\u001b[0m, in \u001b[0;36mSequential.forward\u001b[0;34m(self, input)\u001b[0m\n\u001b[1;32m    215\u001b[0m \u001b[39mdef\u001b[39;00m \u001b[39mforward\u001b[39m(\u001b[39mself\u001b[39m, \u001b[39minput\u001b[39m):\n\u001b[0;32m--> 216\u001b[0m     \u001b[39mfor\u001b[39;00m module \u001b[39min\u001b[39;00m \u001b[39mself\u001b[39m:\n\u001b[1;32m    217\u001b[0m         \u001b[39minput\u001b[39m \u001b[39m=\u001b[39m module(\u001b[39minput\u001b[39m)\n\u001b[1;32m    218\u001b[0m     \u001b[39mreturn\u001b[39;00m \u001b[39minput\u001b[39m\n",
      "File \u001b[0;32m/Library/Frameworks/Python.framework/Versions/3.11/lib/python3.11/site-packages/torch/nn/modules/container.py:209\u001b[0m, in \u001b[0;36mSequential.__iter__\u001b[0;34m(self)\u001b[0m\n\u001b[1;32m    207\u001b[0m \u001b[39m@_copy_to_script_wrapper\u001b[39m\n\u001b[1;32m    208\u001b[0m \u001b[39mdef\u001b[39;00m \u001b[39m__iter__\u001b[39m(\u001b[39mself\u001b[39m) \u001b[39m-\u001b[39m\u001b[39m>\u001b[39m Iterator[Module]:\n\u001b[0;32m--> 209\u001b[0m     \u001b[39mreturn\u001b[39;00m \u001b[39miter\u001b[39m(\u001b[39mself\u001b[39m\u001b[39m.\u001b[39m_modules\u001b[39m.\u001b[39mvalues())\n",
      "\u001b[0;31mKeyboardInterrupt\u001b[0m: "
     ]
    },
    {
     "data": {
      "image/png": "[encoded data removed]",
      "text/plain": [
       "<Figure size 300x150 with 1 Axes>"
      ]
     },
     "metadata": {},
     "output_type": "display_data"
    }
   ],
   "source": [
    "hidden_dim = 64\n",
    "actor_lr = 1e-4# * 10\n",
    "val_lr = actor_lr * 10\n",
    "Horizon_Length = 8\n",
    "RollOuts = 8\n",
    "gamma = 0.95\n",
    "max_stageCost = 1e3\n",
    "action_std = torch.tensor([2.0])\n",
    "RewardNormalizer = (1 - gamma**Horizon_Length) / (1 - gamma) * RollOuts\n",
    "AGENT = PPO(ru, rx * 2, hidden_dim, val_lr, actor_lr, action_std, device)\n",
    "AGENT.beta = 2\n",
    "NumberOf_Episodes = 2000\n",
    "epochs = 8\n",
    "\n",
    "rewards = []\n",
    "avg_rewards = []\n",
    "fig= plt.figure(figsize=(FigDim1,FigDim2))\n",
    "for episode in range(NumberOf_Episodes):\n",
    "    episode_reward = 0#torch.tensor([[0.0]])\n",
    "    LinearDecay = (NumberOf_Episodes - episode) / NumberOf_Episodes\n",
    "    AGENT.action_std = action_std * LinearDecay\n",
    "    for trial in range(RollOuts):\n",
    "        # Initial conditions of this rollout\n",
    "        Cov0 = 5 * torch.diag(torch.rand(rx,))\n",
    "        #Cov0[1,1]=torch.rand(1,) * 1\n",
    "        x0 = 5 * torch.randn(rx, 1)\n",
    "        #x0[2] = -26.667 + torch.randn(1,)\n",
    "        #x0[3] = 0.675 + 0.1 * torch.randn(1,)\n",
    "        #x0[4] = -2 + 0.2 * torch.randn(1,)\n",
    "        #x0[2] = abs(x0[2]) % (2*torch.pi)\n",
    "        #x0[1] = 2 + 1.0 * torch.rand(1,)\n",
    "        #x0[1] = 2 + 0.5 * torch.randn(1,)\n",
    "        #x0[1] = 1.0 + torch.sqrt(torch.tensor(0.2))*torch.randn(1,)\n",
    "        #x0[3:6,:] = torch.abs(x0[3:6,:])\n",
    "        Hyperstate.ChangeInitialStates(x0, Cov0)\n",
    "        # Horizon of this rollout\n",
    "        for k in range(Horizon_Length):\n",
    "            state = torch.cat((Hyperstate.Mean.T, torch.diag(Hyperstate.Covariance).unsqueeze(0)), dim=1).to(device)\n",
    "            action = AGENT.get_action(state)\n",
    "            action += AGENT.action_std * torch.randn(ru,)\n",
    "            action = action.to(deviceCPU)\n",
    "            action = action.T\n",
    "            # Adding some exploration effort\n",
    "            action = torch.atleast_2d(action).detach() \n",
    "            # Create a transition\n",
    "            true_state = Hyperstate.Mean + sqrtm(Hyperstate.Covariance) @ torch.randn(rx, 1) #we might need next t-step\n",
    "            #true_state[3:6,:] = torch.abs(true_state[3:6,:])\n",
    "            true_state_Plus = stateDynamics(true_state, action) + sqrtm(Q) @ torch.randn(rx, 1)\n",
    "            #true_state_Plus[3:6,:] = torch.abs(true_state_Plus[3:6,:]) % (2 * torch.pi) - torch.pi\n",
    "            measurement_Plus_realization = measurementDynamics(true_state_Plus, action) + sqrtm(R) @ torch.randn(ry, 1)\n",
    "            # reward function\n",
    "            reward = 1 + rewardFunction(Hyperstate.Mean, Hyperstate.Covariance, action, Q_lqr, R_lqr, max_stageCost)\n",
    "            # Advance to next hyperstate\n",
    "            Hyperstate.ApplyEKF(action, measurement_Plus_realization)\n",
    "            new_state = torch.cat((Hyperstate.Mean.T, torch.diag(Hyperstate.Covariance).unsqueeze(0)), dim=1)\n",
    "            AGENT.ReplayBuffer.push(state, action.T, reward, new_state, torch.tensor([[k]]))\n",
    "            state = new_state\n",
    "            episode_reward += reward * gamma ** k\n",
    "            #Hyperstate.printem()\n",
    "    AGENT.train(epochs= epochs)\n",
    "\n",
    "\n",
    "    rewards.append(episode_reward.numpy() / RewardNormalizer)\n",
    "    avg_rewards.append(np.mean(rewards[-10:]))\n",
    "    if (episode%1==0):\n",
    "        plt.clf()\n",
    "        plt.plot(avg_rewards, 'r')\n",
    "        display.clear_output(wait=True)\n",
    "        display.display(plt.gcf())\n",
    "    \n",
    "\n"
   ]
  },
  {
   "cell_type": "code",
   "execution_count": null,
   "metadata": {},
   "outputs": [
    {
     "data": {
      "image/png": "[encoded data removed]",
      "text/plain": [
       "<Figure size 300x150 with 1 Axes>"
      ]
     },
     "metadata": {},
     "output_type": "display_data"
    }
   ],
   "source": [
    "plt.style.use('ggplot')\n",
    "fig= plt.figure(figsize=(FigDim1,FigDim2))\n",
    "plt.rc('xtick', labelsize=7) #fontsize of the x tick labels\n",
    "plt.rc('ytick', labelsize=7) #fontsize of the y tick labels\n",
    "plt.xlabel('episode number', fontsize=9)  \n",
    "plt.ylabel('normalized reward', fontsize=9) \n",
    "plt.plot(avg_rewards)\n",
    "plt.ylim([0.0, 1])\n",
    "if saveFigs==True:\n",
    "    plt.savefig('Figures/Example1_avgReward.pdf',bbox_inches =\"tight\")\n",
    "plt.show()\n",
    "\n",
    "\n",
    "K = AGENT.get_action#get_action\n",
    "\n",
    "with open('Data/StateFeedbackGainFunction.pkl', 'wb') as outp:\n",
    "    pickle.dump(K, outp, pickle.HIGHEST_PROTOCOL)\n",
    "\n",
    "#with open('StateFeedbackGainFunction.pkl', 'rb') as inp:\n",
    "    #K1 = pickle.load(inp)"
   ]
  },
  {
   "cell_type": "code",
   "execution_count": null,
   "metadata": {},
   "outputs": [
    {
     "name": "stdout",
     "output_type": "stream",
     "text": [
      "tensor([[0.0285]])\n"
     ]
    },
    {
     "data": {
      "image/png": "[encoded data removed]",
      "text/plain": [
       "<Figure size 300x150 with 1 Axes>"
      ]
     },
     "metadata": {},
     "output_type": "display_data"
    }
   ],
   "source": [
    "T = 200\n",
    "\n",
    "StateRec = deque([])\n",
    "CovRec = deque([])\n",
    "ActionRec = deque([])\n",
    "StateRec_true = deque([])\n",
    "Cov0 = 1 * torch.diag(torch.rand(rx,))\n",
    "#Cov0[1,1]=torch.rand(1,) * 1\n",
    "x0 = 5 * torch.randn(rx, 1)\n",
    "#x0[2] = -26.667 + torch.randn(1,)\n",
    "#x0[3] = 0.675 + 0.1 * torch.randn(1,)\n",
    "#x0[4] = -2 + 0.2 * torch.randn(1,)\n",
    "#x0[2] = abs(x0[2]) % (2*torch.pi)\n",
    "#x0[2] = 2 + 0.5 * torch.randn(1,)\n",
    "#x0[1] = 1 + 1.0 * torch.rand(1,)\n",
    "print(x0)\n",
    "Hyperstate.ChangeInitialStates(x0, Cov0)\n",
    "true_state = Hyperstate.Mean + sqrtm(Hyperstate.Covariance) @ torch.randn(rx, 1) #we might need next t-step\n",
    "\n",
    "\n",
    "for k in range(T):\n",
    "    state = torch.cat((Hyperstate.Mean.T, torch.diag(Hyperstate.Covariance).unsqueeze(0)), dim=1)\n",
    "    action = K(state)\n",
    "    action = torch.atleast_2d(action.detach()).T\n",
    "    true_state_Plus = stateDynamics(true_state, action) + sqrtm(Q_true) @ torch.randn(rx, 1)\n",
    "    measurement_Plus_realization = measurementDynamics(true_state_Plus, action) + sqrtm(R) @ torch.randn(ry, 1)\n",
    "    StateRec.append(Hyperstate.Mean)\n",
    "    CovRec.append(Hyperstate.Covariance)\n",
    "    ActionRec.append(action)\n",
    "    StateRec_true.append(true_state)\n",
    "    Hyperstate.ApplyEKF(action, measurement_Plus_realization)\n",
    "    true_state = true_state_Plus\n",
    "x = np.ones((rx, T))\n",
    "x_true = np.ones((rx, T))\n",
    "P = np.ones((rx ** 2, T))\n",
    "for i in range(T):\n",
    "    x[:,i] = StateRec[i].detach().numpy().squeeze()\n",
    "    x_true[:,i] = StateRec_true[i].detach().numpy().squeeze()\n",
    "    P[:,i] = CovRec[i].detach().numpy().squeeze().flatten()\n",
    "\n",
    "plt.style.use('ggplot')\n",
    "fig= plt.figure(figsize=(FigDim1,FigDim2))\n",
    "plt.rc('xtick', labelsize=7) #fontsize of the x tick labels\n",
    "plt.rc('ytick', labelsize=7) #fontsize of the y tick labels\n",
    "plt.xlabel('$k$', fontsize=9)  \n",
    "plt.ylabel('magnitude', fontsize=9) \n",
    "\n",
    "k=56\n",
    "plt.plot(range(T), x[0,:], color=list(colors.cnames)[k+4])\n",
    "plt.plot(range(T), P[0,:], color=list(colors.cnames)[k+2])\n",
    "plt.plot(range(T), x_true[0,:], linewidth = 1, color=list(colors.cnames)[k+3])\n",
    "#fig= plt.figure(figsize=(FigDim1,FigDim2))\n",
    "#plt.plot(x[0,:], x[1,:], '-.', linewidth = 1, color=list(colors.cnames)[k+3])\n",
    "if saveFigs==True:\n",
    "   plt.savefig('Figures/Example1_ReinfLearn.pdf',bbox_inches =\"tight\")\n"
   ]
  },
  {
   "cell_type": "code",
   "execution_count": null,
   "metadata": {},
   "outputs": [],
   "source": [
    "T = 50\n",
    "\n",
    "StateRec = deque([])\n",
    "CovRec = deque([])\n",
    "ActionRec = deque([])\n",
    "StateRec_true = deque([])\n",
    "Cov0 = 10 * torch.diag(torch.rand(rx,))\n",
    "x0 = 5 * torch.randn(rx, 1)\n",
    "#x0[1] = 2 + 0.5 * torch.randn(1,)\n",
    "#x0[2] = 2 + 0.5 * torch.randn(1,)\n",
    "Hyperstate.ChangeInitialStates(x0, Cov0)\n",
    "true_state = Hyperstate.Mean + sqrtm(Hyperstate.Covariance) @ torch.randn(rx, 1) #we might need next t-step\n",
    "\n",
    "\n",
    "for k in range(T):\n",
    "    state = torch.cat((Hyperstate.Mean.T, torch.diag(Hyperstate.Covariance).unsqueeze(0)), dim=1)\n",
    "    action = 1.0 * torch.randn(ru,) #-torch.from_numpy(Klqr) * Hyperstate.Mean   #torch.tensor([[0.0]]) #K(state)\n",
    "    action = torch.atleast_2d(action.detach()).T\n",
    "    true_state_Plus = stateDynamics(true_state, action) + sqrtm(Q_true) @ torch.randn(rx, 1)\n",
    "    measurement_Plus_realization = measurementDynamics(true_state_Plus, action) + sqrtm(R) @ torch.randn(ry, 1)\n",
    "    StateRec.append(Hyperstate.Mean)\n",
    "    CovRec.append(Hyperstate.Covariance)\n",
    "    ActionRec.append(action)\n",
    "    StateRec_true.append(true_state)\n",
    "    Hyperstate.ApplyEKF(action, measurement_Plus_realization)\n",
    "    true_state = true_state_Plus\n",
    "x = np.ones((rx, T))\n",
    "x_true = np.ones((rx, T))\n",
    "P = np.ones((rx ** 2, T))\n",
    "for i in range(T):\n",
    "    x[:,i] = StateRec[i].detach().numpy().squeeze()\n",
    "    x_true[:,i] = StateRec_true[i].detach().numpy().squeeze()\n",
    "    P[:,i] = CovRec[i].detach().numpy().squeeze().flatten()\n",
    "\n",
    "plt.style.use('ggplot')\n",
    "fig= plt.figure(figsize=(FigDim1,FigDim2))\n",
    "plt.rc('xtick', labelsize=7) #fontsize of the x tick labels\n",
    "plt.rc('ytick', labelsize=7) #fontsize of the y tick labels\n",
    "plt.xlabel('$k$', fontsize=9)  \n",
    "plt.ylabel('magnitude', fontsize=9) \n",
    "\n",
    "k=56\n",
    "plt.plot(range(T), x[0,:], color=list(colors.cnames)[k+4])\n",
    "plt.plot(range(T), P[0,:], color=list(colors.cnames)[k+2])\n",
    "plt.plot(range(T), x_true[0,:], linewidth = 1, color=list(colors.cnames)[k+3])\n",
    "#plt.ylim([-20, 20])\n",
    "if saveFigs==True:\n",
    "   plt.savefig('Figures/Example1_LQR.pdf',bbox_inches =\"tight\")\n"
   ]
  },
  {
   "cell_type": "code",
   "execution_count": null,
   "metadata": {},
   "outputs": [],
   "source": [
    "print(StateRec[0].detach().numpy())"
   ]
  },
  {
   "cell_type": "code",
   "execution_count": null,
   "metadata": {},
   "outputs": [],
   "source": [
    "action_error = torch.randn(10,2)\n",
    "print(action_error.sum(dim=1))"
   ]
  },
  {
   "cell_type": "code",
   "execution_count": null,
   "metadata": {},
   "outputs": [],
   "source": [
    "u = torch.tensor([[1.0],[2.0]])\n",
    "x = torch.tensor([[5.0, 1.0, 3.2]]).T\n",
    "print(x[0])\n",
    "print(stateDynamics(x, u))\n",
    "print(f_Jacobian(x, u).trace())"
   ]
  },
  {
   "cell_type": "code",
   "execution_count": null,
   "metadata": {},
   "outputs": [],
   "source": [
    "A = torch.rand(5,1)\n",
    "print(A[1:3,:])"
   ]
  },
  {
   "cell_type": "code",
   "execution_count": null,
   "metadata": {},
   "outputs": [],
   "source": [
    "print(torch.diag(Hyperstate.Covariance).unsqueeze(0))\n",
    "print(Hyperstate.Mean.T)\n",
    "print(torch.cat((Hyperstate.Mean.T, torch.diag(Hyperstate.Covariance).unsqueeze(0)), dim=1))"
   ]
  },
  {
   "cell_type": "code",
   "execution_count": null,
   "metadata": {},
   "outputs": [],
   "source": [
    "Hyperstate.Covariance = Hyperstate.Covariance + -0.001\n",
    "print(Hyperstate.Covariance)\n",
    "sqrtm(Hyperstate.Covariance @ Hyperstate.Covariance)"
   ]
  },
  {
   "cell_type": "code",
   "execution_count": null,
   "metadata": {},
   "outputs": [],
   "source": [
    "import torch\n",
    "A = torch.rand(5, 1)\n",
    "B = torch.tensor([1,2,3,4,1])\n",
    "for j in reversed(range(5)):\n",
    "    print(j)\n",
    "print(A.shape)"
   ]
  },
  {
   "cell_type": "code",
   "execution_count": null,
   "metadata": {},
   "outputs": [],
   "source": [
    "from torch.distributions import MultivariateNormal\n",
    "action_mean = torch.tensor([[1, 2]])\n",
    "cov_mat = torch.diag(torch.ones(2,))\n",
    "print(action_mean, cov_mat)\n",
    "dist = MultivariateNormal(action_mean, cov_mat)\n",
    "Actions = torch.randn(10,2)\n",
    "print(dist.entropy())"
   ]
  },
  {
   "cell_type": "code",
   "execution_count": null,
   "metadata": {},
   "outputs": [],
   "source": [
    "time_step_k = torch.tensor([[1],[2],[1],[2]])\n",
    "print((time_step_k == time_step_k.max()).sum())\n",
    "print(time_step_k.shape[0])\n",
    "print(time_step_k[-1,:])\n"
   ]
  },
  {
   "cell_type": "code",
   "execution_count": null,
   "metadata": {},
   "outputs": [],
   "source": [
    "A = torch.ones(6,3)\n",
    "\n",
    "print(A.mean(dim=1))"
   ]
  }
 ],
 "metadata": {
  "kernelspec": {
   "display_name": "Python 3",
   "language": "python",
   "name": "python3"
  },
  "language_info": {
   "codemirror_mode": {
    "name": "ipython",
    "version": 3
   },
   "file_extension": ".py",
   "mimetype": "text/x-python",
   "name": "python",
   "nbconvert_exporter": "python",
   "pygments_lexer": "ipython3",
   "version": "3.11.3"
  },
  "orig_nbformat": 4
 },
 "nbformat": 4,
 "nbformat_minor": 2
}
